{
 "cells": [
  {
   "cell_type": "markdown",
   "id": "3f0c0f2f-36f6-4747-a35b-7ee686b9f6b6",
   "metadata": {},
   "source": [
    "# SAVE AND LOAD THE MODEL\n",
    "\n",
    "在这一节中我们将关注如何通过保存，加载和运行模型预测来保持模型的状态。"
   ]
  },
  {
   "cell_type": "code",
   "execution_count": 1,
   "id": "496f1344-9075-4b37-908a-9bedaeb3cad2",
   "metadata": {
    "tags": []
   },
   "outputs": [],
   "source": [
    "import torch\n",
    "import torchvision.models as models"
   ]
  },
  {
   "cell_type": "markdown",
   "id": "2082a961-9e2e-4e2b-96e3-b6d77f166364",
   "metadata": {},
   "source": [
    "## Saving and Loading Model Weights\n",
    "\n",
    "Pytorch模型在内置的状态字典`state_dict`保存学习到的参数。这些参数可以通过`torch.save`方法保存。"
   ]
  },
  {
   "cell_type": "code",
   "execution_count": 2,
   "id": "853d775f-d436-4a52-b779-9616668f0006",
   "metadata": {
    "tags": []
   },
   "outputs": [
    {
     "name": "stderr",
     "output_type": "stream",
     "text": [
      "Downloading: \"https://download.pytorch.org/models/vgg16-397923af.pth\" to /sda/home/gaojiayi/.cache/torch/hub/checkpoints/vgg16-397923af.pth\n",
      "100%|██████████| 528M/528M [04:07<00:00, 2.24MB/s]  \n"
     ]
    }
   ],
   "source": [
    "model = models.vgg16(weights='IMAGENET1K_V1') # 加载vgg16网络中名为'IMAGENET1K_V1'的权重参数。\n",
    "torch.save(model.state_dict(), 'model_weights.pth') # 将模型的状态字典保存到'model_weights.pth'文件中。"
   ]
  },
  {
   "cell_type": "markdown",
   "id": "f8ff67d1-66ee-4c4e-921b-31f0ad35cbbb",
   "metadata": {},
   "source": [
    "要加载模型权重，首先需要创建一个相同模型的实例（instance），并且使用`load_state_dict()`方法加载参数。"
   ]
  },
  {
   "cell_type": "code",
   "execution_count": 5,
   "id": "203ca468-8a66-404e-b751-8ef045548f96",
   "metadata": {
    "tags": []
   },
   "outputs": [
    {
     "data": {
      "text/plain": [
       "VGG(\n",
       "  (features): Sequential(\n",
       "    (0): Conv2d(3, 64, kernel_size=(3, 3), stride=(1, 1), padding=(1, 1))\n",
       "    (1): ReLU(inplace=True)\n",
       "    (2): Conv2d(64, 64, kernel_size=(3, 3), stride=(1, 1), padding=(1, 1))\n",
       "    (3): ReLU(inplace=True)\n",
       "    (4): MaxPool2d(kernel_size=2, stride=2, padding=0, dilation=1, ceil_mode=False)\n",
       "    (5): Conv2d(64, 128, kernel_size=(3, 3), stride=(1, 1), padding=(1, 1))\n",
       "    (6): ReLU(inplace=True)\n",
       "    (7): Conv2d(128, 128, kernel_size=(3, 3), stride=(1, 1), padding=(1, 1))\n",
       "    (8): ReLU(inplace=True)\n",
       "    (9): MaxPool2d(kernel_size=2, stride=2, padding=0, dilation=1, ceil_mode=False)\n",
       "    (10): Conv2d(128, 256, kernel_size=(3, 3), stride=(1, 1), padding=(1, 1))\n",
       "    (11): ReLU(inplace=True)\n",
       "    (12): Conv2d(256, 256, kernel_size=(3, 3), stride=(1, 1), padding=(1, 1))\n",
       "    (13): ReLU(inplace=True)\n",
       "    (14): Conv2d(256, 256, kernel_size=(3, 3), stride=(1, 1), padding=(1, 1))\n",
       "    (15): ReLU(inplace=True)\n",
       "    (16): MaxPool2d(kernel_size=2, stride=2, padding=0, dilation=1, ceil_mode=False)\n",
       "    (17): Conv2d(256, 512, kernel_size=(3, 3), stride=(1, 1), padding=(1, 1))\n",
       "    (18): ReLU(inplace=True)\n",
       "    (19): Conv2d(512, 512, kernel_size=(3, 3), stride=(1, 1), padding=(1, 1))\n",
       "    (20): ReLU(inplace=True)\n",
       "    (21): Conv2d(512, 512, kernel_size=(3, 3), stride=(1, 1), padding=(1, 1))\n",
       "    (22): ReLU(inplace=True)\n",
       "    (23): MaxPool2d(kernel_size=2, stride=2, padding=0, dilation=1, ceil_mode=False)\n",
       "    (24): Conv2d(512, 512, kernel_size=(3, 3), stride=(1, 1), padding=(1, 1))\n",
       "    (25): ReLU(inplace=True)\n",
       "    (26): Conv2d(512, 512, kernel_size=(3, 3), stride=(1, 1), padding=(1, 1))\n",
       "    (27): ReLU(inplace=True)\n",
       "    (28): Conv2d(512, 512, kernel_size=(3, 3), stride=(1, 1), padding=(1, 1))\n",
       "    (29): ReLU(inplace=True)\n",
       "    (30): MaxPool2d(kernel_size=2, stride=2, padding=0, dilation=1, ceil_mode=False)\n",
       "  )\n",
       "  (avgpool): AdaptiveAvgPool2d(output_size=(7, 7))\n",
       "  (classifier): Sequential(\n",
       "    (0): Linear(in_features=25088, out_features=4096, bias=True)\n",
       "    (1): ReLU(inplace=True)\n",
       "    (2): Dropout(p=0.5, inplace=False)\n",
       "    (3): Linear(in_features=4096, out_features=4096, bias=True)\n",
       "    (4): ReLU(inplace=True)\n",
       "    (5): Dropout(p=0.5, inplace=False)\n",
       "    (6): Linear(in_features=4096, out_features=1000, bias=True)\n",
       "  )\n",
       ")"
      ]
     },
     "execution_count": 5,
     "metadata": {},
     "output_type": "execute_result"
    }
   ],
   "source": [
    "model = models.vgg16() # 创建一个没有训练的模型实例\n",
    "model.load_state_dict(torch.load('model_weights.pth')) \n",
    "model.eval()"
   ]
  },
  {
   "cell_type": "markdown",
   "id": "9d9e8574-b718-4eb2-9911-a1bc685edfb6",
   "metadata": {},
   "source": [
    "> **小贴士**\n",
    ">\n",
    "> 请确保在推理前调用`model.eval()`方法，将丢弃（dropout）和批归一化（batch normalization）层设置为评估模式。如果不这样做，将产生不一致的推理结果。"
   ]
  },
  {
   "cell_type": "markdown",
   "id": "0d6a8584-90b6-45e9-9162-d96f59ab56b8",
   "metadata": {},
   "source": [
    "## Saving and Loading Models with Shapes\n",
    "\n",
    "在加载模型权重时，我们需要先将模型类实例化，因为该类定义了网络的结构。我们可能想把这个类的结构和模型一起保存，在这种情况下，我们可以把`model`（而不是`model.state_dict()`）传给保存函数："
   ]
  },
  {
   "cell_type": "code",
   "execution_count": 6,
   "id": "2c64d4fa-dd8d-4ff0-91bf-2b8054dc73f3",
   "metadata": {
    "tags": []
   },
   "outputs": [],
   "source": [
    "torch.save(model, 'model.pth')"
   ]
  },
  {
   "cell_type": "markdown",
   "id": "e32e70e3-89e0-4072-8810-80b9f90ebb4e",
   "metadata": {},
   "source": [
    "我们可以这样加载模型："
   ]
  },
  {
   "cell_type": "code",
   "execution_count": 7,
   "id": "d248c6af-5eeb-495b-ab67-4a2bf1a7c2d7",
   "metadata": {
    "tags": []
   },
   "outputs": [],
   "source": [
    "model = torch.load('model.pth')"
   ]
  },
  {
   "cell_type": "markdown",
   "id": "8f0bc826-1fac-406c-994c-7edf23f9ade6",
   "metadata": {},
   "source": [
    "> **小贴示**\n",
    ">\n",
    "> 这种方法在序列化模型时使用Python [pickle](https://docs.python.org/3/library/pickle.html)模块，因此在加载模型时它依赖于可用的实际类定义。"
   ]
  },
  {
   "cell_type": "markdown",
   "id": "68553e99-0abc-4512-82fb-d89a9d9e12f2",
   "metadata": {},
   "source": [
    "## Related Tutorials\n",
    "\n",
    "[Saving and Loading a General Checkpoint in PyTorch](https://pytorch.org/tutorials/recipes/recipes/saving_and_loading_a_general_checkpoint.html)"
   ]
  },
  {
   "cell_type": "code",
   "execution_count": null,
   "id": "7870b679-a621-407c-ad1a-9316bd8b03dd",
   "metadata": {},
   "outputs": [],
   "source": []
  }
 ],
 "metadata": {
  "kernelspec": {
   "display_name": "jpth",
   "language": "python",
   "name": "jpth"
  },
  "language_info": {
   "codemirror_mode": {
    "name": "ipython",
    "version": 3
   },
   "file_extension": ".py",
   "mimetype": "text/x-python",
   "name": "python",
   "nbconvert_exporter": "python",
   "pygments_lexer": "ipython3",
   "version": "3.7.12"
  }
 },
 "nbformat": 4,
 "nbformat_minor": 5
}
