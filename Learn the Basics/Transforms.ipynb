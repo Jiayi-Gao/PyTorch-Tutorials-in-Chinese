{
 "cells": [
  {
   "cell_type": "markdown",
   "id": "6591369e-609f-4934-924d-e764699fe6eb",
   "metadata": {},
   "source": [
    "# TRANSFORMS\n",
    "\n",
    "数据并不总是以机器学算法要求的处理过的最终形式出现。我们使用**transforms**来对数据进行一些操作使它符合训练。\n",
    "\n",
    "所有TorchVision数据集都有两个参数`transform`来处理特征以及`target_transform`来处理标签它们接受包含转换逻辑的可调用参数[torchvision.transforms](https://pytorch.org/vision/stable/transforms.html)模块提供了几个常用的转换，开箱即用。\n",
    "\n",
    "FashionMNIST的特征是PIL图像格式，而标签是整数。对于训练，我们需要将特征作为归一化的张量，将标签作为独热编码的张量。为了进行这些转换，我们使用`ToTensor`和`Lambda`。"
   ]
  },
  {
   "cell_type": "code",
   "execution_count": 1,
   "id": "189027eb-278f-42fa-b6bc-1127c8811fea",
   "metadata": {
    "tags": []
   },
   "outputs": [],
   "source": [
    "import torch\n",
    "import torchvision\n",
    "from torchvision.transforms import ToTensor, Lambda"
   ]
  },
  {
   "cell_type": "code",
   "execution_count": 17,
   "id": "8b074048-d0d2-4c0f-9207-f3cbe11d14cf",
   "metadata": {},
   "outputs": [],
   "source": [
    "ds = torchvision.datasets.FashionMNIST(\n",
    "    root=\"../../../data\",\n",
    "    train=True,\n",
    "    download=False,\n",
    "    transform=ToTensor(),\n",
    "    target_transform=Lambda(lambda y: torch.zero(10, dtype=torch.float).scatter_(0, torch.tensor(y), value=1))\n",
    ")"
   ]
  },
  {
   "cell_type": "markdown",
   "id": "46a3efba-4e86-453d-8e5a-b3cede330891",
   "metadata": {},
   "source": [
    "## ToTensor()\n",
    "\n",
    "[ToTensor](https://pytorch.org/vision/stable/transforms.html#torchvision.transforms.ToTensor)将一个PIL图或者NumPy的`ndarray`转化为`FloatTensor`，并且将图片的像素密度值在\\[0., 1.\\]区间缩放。"
   ]
  },
  {
   "cell_type": "markdown",
   "id": "0305ab9d-3817-47ff-ad32-06447efc35ea",
   "metadata": {},
   "source": [
    "## Lambda Transforms\n",
    "\n",
    "Lambda变换应用任意一个用户定义的lambda函数。这里我们定义一个函数来将整型转换为一个one-hot编码的张量。它首先创建一个大小为10（数据集中标签类别的数量）的全零张量，并且调用[scatter_](https://pytorch.org/docs/stable/generated/torch.Tensor.scatter_.html)指定下标为给定标签`y`的值为1 `value=1`。"
   ]
  },
  {
   "cell_type": "code",
   "execution_count": 14,
   "id": "a617b1a5-d94c-4b83-8a12-44b7ae18e88e",
   "metadata": {},
   "outputs": [
    {
     "name": "stdout",
     "output_type": "stream",
     "text": [
      "Dataset FashionMNIST\n",
      "    Number of datapoints: 60000\n",
      "    Root location: ../../../data\n",
      "    Split: Train\n",
      "    StandardTransform\n",
      "Transform: ToTensor()\n",
      "Target transform: Lambda()\n"
     ]
    }
   ],
   "source": [
    "print(ds)"
   ]
  },
  {
   "cell_type": "code",
   "execution_count": null,
   "id": "457960fb-0dca-4dfb-aa8d-58f628d10213",
   "metadata": {},
   "outputs": [],
   "source": []
  }
 ],
 "metadata": {
  "kernelspec": {
   "display_name": "jpth",
   "language": "python",
   "name": "jpth"
  },
  "language_info": {
   "codemirror_mode": {
    "name": "ipython",
    "version": 3
   },
   "file_extension": ".py",
   "mimetype": "text/x-python",
   "name": "python",
   "nbconvert_exporter": "python",
   "pygments_lexer": "ipython3",
   "version": "3.7.12"
  }
 },
 "nbformat": 4,
 "nbformat_minor": 5
}
