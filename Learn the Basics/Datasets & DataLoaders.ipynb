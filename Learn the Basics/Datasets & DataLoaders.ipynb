{
 "cells": [
  {
   "cell_type": "code",
   "execution_count": 1,
   "id": "81fcd1f9-feb9-493d-a9b5-0af08af7a96c",
   "metadata": {},
   "outputs": [],
   "source": [
    "import torch\n",
    "from torch.utils.data import Dataset\n",
    "from torchvision import datasets\n",
    "from torchvision.transforms import ToTensor\n",
    "import matplotlib.pyplot as plt"
   ]
  },
  {
   "cell_type": "markdown",
   "id": "6b3e660c-c8e2-4d8b-9131-4e188ff9981d",
   "metadata": {},
   "source": [
    "`root` 是训练/测试数据存储的路径\n",
    "`train` 指明使用训练数据集还是测试数据集\n",
    "`download=True` 如果在`root`中没有指定的数据集就从互联网上下载\n",
    "`transform`和`target_transform`指明特征和标签的变换"
   ]
  },
  {
   "cell_type": "code",
   "execution_count": 7,
   "id": "537bcb49-a4ee-472c-afd0-757013ff22c7",
   "metadata": {
    "tags": []
   },
   "outputs": [],
   "source": [
    "training_data = datasets.FashionMNIST(\n",
    "    root=\"data\",\n",
    "    train=True,\n",
    "    download=True,\n",
    "    transform=ToTensor()\n",
    ")\n",
    "\n",
    "test_data = datasets.FashionMNIST(\n",
    "    root=\"data\",\n",
    "    train=False,\n",
    "    download=True,\n",
    "    transform=ToTensor()\n",
    ")"
   ]
  },
  {
   "cell_type": "markdown",
   "id": "c96f6e48-b286-448e-acf8-a2e0c6684339",
   "metadata": {},
   "source": [
    "### Iterating and Visualizing the Dataset"
   ]
  },
  {
   "cell_type": "code",
   "execution_count": 36,
   "id": "9fbe3cc4-aabf-4586-8e5d-0c4a856c540b",
   "metadata": {
    "tags": []
   },
   "outputs": [
    {
     "data": {
      "image/png": "[encoded data removed]",
      "text/plain": [
       "<Figure size 576x576 with 9 Axes>"
      ]
     },
     "metadata": {
      "needs_background": "light"
     },
     "output_type": "display_data"
    }
   ],
   "source": [
    "labels_map = {\n",
    "    0: \"T-Shirt\",\n",
    "    1: \"Trouser\",\n",
    "    2: \"Pullover\",\n",
    "    3: \"Dress\",\n",
    "    4: \"Coat\",\n",
    "    5: \"Sandal\",\n",
    "    6: \"Shirt\",\n",
    "    7: \"Sneaker\", \n",
    "    8: \"Bag\",\n",
    "    9: \"Ankle Boot\",\n",
    "}\n",
    "figure = plt.figure(figsize=(8, 8))\n",
    "cols, rows = 3, 3\n",
    "for i in range(1, cols * rows + 1):\n",
    "    sample_idx = torch.randint(len(training_data), size=(1,)).item()\n",
    "    img, label = training_data[sample_idx]\n",
    "    figure.add_subplot(rows, cols, i)\n",
    "    plt.title(labels_map[label])\n",
    "    plt.axis(\"off\")\n",
    "    plt.imshow(img.squeeze(), cmap=\"gray\")\n",
    "plt.show()"
   ]
  },
  {
   "cell_type": "markdown",
   "id": "7dcd5c71-a4f2-46e1-9139-3ced54341a35",
   "metadata": {},
   "source": [
    "### Creating a Custom Dataset for your files\n",
    "一个自定义的Dataset类必须实现三个函数：\\_\\_init\\_\\_, \\_\\_len\\_\\_和\\_\\_getitem\\_\\_。FashionMNIST的图片存储在`img_dir`目录下，他们相应的标签存储在CSV文件`annotations_file`中。"
   ]
  },
  {
   "cell_type": "code",
   "execution_count": 12,
   "id": "e973f740-2307-4070-95a0-b0ee69ce4887",
   "metadata": {
    "tags": []
   },
   "outputs": [],
   "source": [
    "import os\n",
    "import pandas as pd\n",
    "from torchvision.io import read_image"
   ]
  },
  {
   "cell_type": "code",
   "execution_count": 32,
   "id": "0fab0b92-5bfd-4999-9997-37137237f7a5",
   "metadata": {
    "tags": []
   },
   "outputs": [],
   "source": [
    "class CustomImageDataset(Dataset):\n",
    "    def __init__(self, annotation_file, img_dir, transform=None, target_transform=None):\n",
    "        self.img_dir = img_dir\n",
    "        self.img_labels = pd.read_csv(annotation_file)\n",
    "        self.transform = transform\n",
    "        self.target_transform = target_transform\n",
    "    \n",
    "    def __len__(self):\n",
    "        return len(self.img_labels)\n",
    "    \n",
    "    def __getitem__(self, idx):\n",
    "        img_path = os.path.join(self.img_dir, self.img_labels.iloc[idx, 0])\n",
    "        image = read_img(img_path)\n",
    "        label = self.img_labels.iloc[idx, 1]\n",
    "        if self.transform:\n",
    "            image = self.transform(image)\n",
    "        if self.target_transform:\n",
    "            label = self.target_transform(label)\n",
    "        return image, label"
   ]
  },
  {
   "cell_type": "markdown",
   "id": "e4a7fea9-338f-487c-9250-e55f2b9e304b",
   "metadata": {
    "tags": []
   },
   "source": [
    "\\_\\_getitem\\_\\_函数从数据集中给定的下标index`idx`加载并返回一个样本。基于这个下标，它可以识别图像的存储位置，将它用`read_image`函数转换为一个张量，并在`self.img_labels`中的csv数据检索相应的标签，对他们调用变换（transform）函数（如果适合的话），并在一个元组中返回张量图和相应的标签。"
   ]
  },
  {
   "cell_type": "markdown",
   "id": "43cbc509-dc7a-4b47-96e5-f11a8ef15be8",
   "metadata": {
    "tags": []
   },
   "source": [
    "### Preparing your data for training with DataLoaders\n",
    "\n",
    "`Dataset`一次一个样本的检索我们数据集的特征和标签。在训练模型时，我们通常希望以 \"minibatch \"的形式传递样本，在每个epoch打乱数据以减少模型的过拟合，并使用python的`multiprocessing`来加速数据检索。\n",
    "\n",
    "`DataLoader`是一个可迭代的对象，它用一个简单的API为我们抽象了这种复杂性。"
   ]
  },
  {
   "cell_type": "code",
   "execution_count": 33,
   "id": "92ce576e-e42a-48e2-9866-0ee15f894ae0",
   "metadata": {
    "tags": []
   },
   "outputs": [],
   "source": [
    "from torch.utils.data import DataLoader\n",
    "\n",
    "train_dataloader = DataLoader(training_data, batch_size=64, shuffle=True)\n",
    "test_dataloader = DataLoader(test_data, batch_size=64, shuffle=True)"
   ]
  },
  {
   "cell_type": "markdown",
   "id": "3658f212-20a1-4805-b9cf-e522a59d5684",
   "metadata": {},
   "source": [
    "### Iterate through the DataLoader\n",
    "\n",
    "我们已经将该数据集加载到`DataLoader`中，并可以根据需要迭代该数据集。下面的每次迭代都会返回一批`train_features`和`train_labels`的数据（分别包括`batch_size=64`特征和标签）。因为我们指定了shuffle=True，所以在我们遍历所有批次后，数据会被打乱（要想对数据加载顺序进行更精细的控制，请看[Samplers](https://pytorch.org/docs/stable/data.html#data-loading-order-and-sampler)）。"
   ]
  },
  {
   "cell_type": "code",
   "execution_count": 34,
   "id": "e62677e1-f562-4532-8c87-9a38dc8c99dd",
   "metadata": {
    "tags": []
   },
   "outputs": [
    {
     "name": "stdout",
     "output_type": "stream",
     "text": [
      "Feature batch shape: torch.Size([64, 1, 28, 28])\n",
      "Labels batch shape: torch.Size([64])\n"
     ]
    },
    {
     "data": {
      "image/png": "[encoded data removed]",
      "text/plain": [
       "<Figure size 432x288 with 1 Axes>"
      ]
     },
     "metadata": {
      "needs_background": "light"
     },
     "output_type": "display_data"
    },
    {
     "name": "stdout",
     "output_type": "stream",
     "text": [
      "Label: 1\n"
     ]
    }
   ],
   "source": [
    "train_features, train_labels = next(iter(train_dataloader))\n",
    "print(f\"Feature batch shape: {train_features.size()}\")\n",
    "print(f\"Labels batch shape: {train_labels.size()}\")\n",
    "img = train_features[0].squeeze()\n",
    "label = train_labels[0]\n",
    "plt.imshow(img, cmap=\"gray\")\n",
    "plt.show()\n",
    "print(f\"Label: {label}\")"
   ]
  },
  {
   "cell_type": "markdown",
   "id": "4be4ad07-ed71-41d1-a482-a232fb87ad15",
   "metadata": {},
   "source": []
  }
 ],
 "metadata": {
  "kernelspec": {
   "display_name": "jpth",
   "language": "python",
   "name": "jpth"
  },
  "language_info": {
   "codemirror_mode": {
    "name": "ipython",
    "version": 3
   },
   "file_extension": ".py",
   "mimetype": "text/x-python",
   "name": "python",
   "nbconvert_exporter": "python",
   "pygments_lexer": "ipython3",
   "version": "3.7.12"
  }
 },
 "nbformat": 4,
 "nbformat_minor": 5
}
