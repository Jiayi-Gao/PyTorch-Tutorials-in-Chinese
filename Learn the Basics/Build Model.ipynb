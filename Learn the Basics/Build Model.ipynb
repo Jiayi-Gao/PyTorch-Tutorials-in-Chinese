{
 "cells": [
  {
   "cell_type": "markdown",
   "id": "d729ddfa-7b6e-4617-bbe2-c512c716ddb0",
   "metadata": {},
   "source": [
    "# BUILD THE NEURAL NETWORK\n",
    "\n",
    "神经网络由对数据执行操作的层/模块组成。其中[torch.nn](https://pytorch.org/docs/stable/nn.html)命名空间提供了你搭建自己的神经网络所需要的所有构建模块。所有PyTorch中的模块都是[nn.Module](https://pytorch.org/docs/stable/generated/torch.nn.Module.html)的子类。神经网络是一个由其他模块（层）组成的模块本身。这种网络结构使得我们可以简单的搭建和管理复杂的结构。\n",
    "\n",
    "在这一节中，我们将搭建一个神经网络来分类FashionMNIST数据集中的图片。"
   ]
  },
  {
   "cell_type": "code",
   "execution_count": 40,
   "id": "f295ce3b-a2b6-4e4b-be34-f9481da63b71",
   "metadata": {
    "tags": []
   },
   "outputs": [],
   "source": [
    "import os\n",
    "import torch\n",
    "from torch import nn\n",
    "from torch.utils.data import DataLoader\n",
    "from torchvision import datasets, transforms"
   ]
  },
  {
   "cell_type": "markdown",
   "id": "688e76c1-4472-4ee4-9190-443bfeffa943",
   "metadata": {},
   "source": [
    "## Get Device for Training\n",
    "\n",
    "如果可以的话，我们想要通过像GPU或MPS等硬件来加速我们的训练。让我们来检查一下[torch.cuda](https://pytorch.org/docs/stable/notes/cuda.html)或[torch.backends.mps](https://pytorch.org/docs/stable/notes/mps.html)是否可用，否则我们就使用CPU。"
   ]
  },
  {
   "cell_type": "code",
   "execution_count": 2,
   "id": "b5449341-db89-4290-87e5-30161669b2fc",
   "metadata": {
    "tags": []
   },
   "outputs": [
    {
     "name": "stdout",
     "output_type": "stream",
     "text": [
      "Using cuda device\n"
     ]
    }
   ],
   "source": [
    "device = (\n",
    "    \"cuda\" \n",
    "    if torch.cuda.is_available() \n",
    "    else \"mps\"\n",
    "    if torch.backends.mps.is_available()\n",
    "    else \"cpu\"\n",
    ")\n",
    "print(f\"Using {device} device\")"
   ]
  },
  {
   "cell_type": "markdown",
   "id": "10f8a4b6-e765-4633-ac23-44172b8b1aa7",
   "metadata": {},
   "source": [
    "## Define the Class\n",
    "\n",
    "我们通过继承`nn.Module`来定义我们的神经网络，并且在`__init__`中初始化神经网络层。每个`nn.Module`子类在`forward`函数中实现对输入数据的操作。"
   ]
  },
  {
   "cell_type": "code",
   "execution_count": 14,
   "id": "2419f67b-b31f-4fdf-9d38-75387c3c286d",
   "metadata": {
    "tags": []
   },
   "outputs": [],
   "source": [
    "class NeuralNetwork(nn.Module):\n",
    "    def __init__(self):\n",
    "        super().__init__()\n",
    "        self.flatten = nn.Flatten()\n",
    "        self.linear_relu_stack = nn.Sequential(\n",
    "            nn.Linear(28*28, 512),\n",
    "            nn.ReLU(),\n",
    "            nn.Linear(512, 512),\n",
    "            nn.ReLU(),\n",
    "            nn.Linear(512, 10),\n",
    "        )\n",
    "        \n",
    "    def forward(self, x):\n",
    "        x = self.flatten(x)\n",
    "        logits = self.linear_relu_stack(x)\n",
    "        return logits"
   ]
  },
  {
   "cell_type": "markdown",
   "id": "71e914f6-31dc-48bd-87b8-7b3fd2fd307d",
   "metadata": {},
   "source": [
    "我们创建了一个`NeuralNetwork`的实例，并且将它放到`device`中，并打印它的结构。"
   ]
  },
  {
   "cell_type": "code",
   "execution_count": 15,
   "id": "52a31e07-6f3b-415a-8a2f-9663c991ca23",
   "metadata": {
    "tags": []
   },
   "outputs": [
    {
     "name": "stdout",
     "output_type": "stream",
     "text": [
      "NeuralNetwork(\n",
      "  (flatten): Flatten(start_dim=1, end_dim=-1)\n",
      "  (linear_relu_stack): Sequential(\n",
      "    (0): Linear(in_features=784, out_features=512, bias=True)\n",
      "    (1): ReLU()\n",
      "    (2): Linear(in_features=512, out_features=512, bias=True)\n",
      "    (3): ReLU()\n",
      "    (4): Linear(in_features=512, out_features=10, bias=True)\n",
      "  )\n",
      ")\n"
     ]
    }
   ],
   "source": [
    "model = NeuralNetwork().to(device)\n",
    "print(model)"
   ]
  },
  {
   "cell_type": "markdown",
   "id": "8bcd4cc9-f5e9-4b79-b144-6d4dc0ff54dc",
   "metadata": {},
   "source": [
    "为了使用这个模型，我们把输入数据传给它。这就执行了模型的`forward`，以及一些后台操作。不要直接调用`model.forward()`!\n",
    "\n",
    "在输入上调用模型会返回一个二维张量，dim=0对应于每个类的10个原始预测值的每个输出，dim=1对应于每个输出的单个值。我们通过`nn.Softmax`模块的一个实例来获得预测概率。"
   ]
  },
  {
   "cell_type": "code",
   "execution_count": 24,
   "id": "0e4f9b19-9d5b-45c5-a540-8717a67c1810",
   "metadata": {
    "tags": []
   },
   "outputs": [
    {
     "name": "stdout",
     "output_type": "stream",
     "text": [
      "Predicted class: tensor([2], device='cuda:0')\n"
     ]
    }
   ],
   "source": [
    "X = torch.rand(1, 28, 28, device=device)\n",
    "logits = model(X)\n",
    "pred_probab = nn.Softmax(dim=1)(logits)\n",
    "y_pred = pred_probab.argmax(1)\n",
    "print(f\"Predicted class: {y_pred}\")"
   ]
  },
  {
   "cell_type": "markdown",
   "id": "84906ff6-fd7a-45e1-b7d4-160701ae9f4e",
   "metadata": {},
   "source": [
    "## Model Layers\n",
    "\n",
    "让我们把FashionMNIST模型逐层分解。为了说明，我们拿一个包含3张28×28图片的minibatch,并将它传给网络看看发生了什么。"
   ]
  },
  {
   "cell_type": "code",
   "execution_count": 32,
   "id": "d8e63145-7796-4a62-a9e1-98d0b3da82d9",
   "metadata": {
    "tags": []
   },
   "outputs": [
    {
     "name": "stdout",
     "output_type": "stream",
     "text": [
      "torch.Size([3, 28, 28])\n"
     ]
    }
   ],
   "source": [
    "input_image = torch.rand(3, 28, 28)\n",
    "print(input_image.size())"
   ]
  },
  {
   "cell_type": "markdown",
   "id": "f70f835e-5936-43c7-ab16-65147dbc4a14",
   "metadata": {},
   "source": [
    "### nn.Flatten\n",
    "\n",
    "我们初始化[nn.Flatten](https://pytorch.org/docs/stable/generated/torch.nn.Flatten.html)层把每个2D 28×28的图像转换为一个有784个像素值的连续的数组。"
   ]
  },
  {
   "cell_type": "code",
   "execution_count": 31,
   "id": "52c5a016-ebfa-4f68-82fe-17f67bf8bf30",
   "metadata": {
    "tags": []
   },
   "outputs": [
    {
     "name": "stdout",
     "output_type": "stream",
     "text": [
      "torch.Size([3, 784])\n"
     ]
    }
   ],
   "source": [
    "flatten = nn.Flatten()\n",
    "flat_image = flatten(input_image)\n",
    "print(flat_image.size())"
   ]
  },
  {
   "cell_type": "markdown",
   "id": "efaf89ba-3264-4866-8f63-1accac2bca3d",
   "metadata": {},
   "source": [
    "### nn.Linear\n",
    "[线性层](https://pytorch.org/docs/stable/generated/torch.nn.Linear.html)是对输入应用线性变换的一个模块，并存储权重和偏置值。"
   ]
  },
  {
   "cell_type": "code",
   "execution_count": 33,
   "id": "86d44c49-de58-4bf6-86cf-04b4cfe443be",
   "metadata": {
    "tags": []
   },
   "outputs": [
    {
     "name": "stdout",
     "output_type": "stream",
     "text": [
      "torch.Size([3, 20])\n"
     ]
    }
   ],
   "source": [
    "layer1 = nn.Linear(in_features=28*28, out_features=20)\n",
    "hidden1 = layer1(flat_image)\n",
    "print(hidden1.size())"
   ]
  },
  {
   "cell_type": "markdown",
   "id": "ac2ba06a-df35-4a21-a82e-d4d03738fe94",
   "metadata": {},
   "source": [
    "### nn.ReLU\n",
    "\n",
    "非线性激活用于在模型输入和输出之间创建一个复杂的映射。它们被应用在线性变换之后，以引入非线性，帮助神经网络学习各种各样的现象。\n",
    "\n",
    "在这个模型中，我们在线性层之间使用了[nn.ReLU](https://pytorch.org/docs/stable/generated/torch.nn.ReLU.html),但还有其他激活方式可以在你的模型中引入非线性。"
   ]
  },
  {
   "cell_type": "code",
   "execution_count": 35,
   "id": "f01ecdd7-8c94-4376-ada1-b476cae540bf",
   "metadata": {
    "tags": []
   },
   "outputs": [
    {
     "name": "stdout",
     "output_type": "stream",
     "text": [
      "Before ReLU: tensor([[0.2936, 0.0000, 0.0000, 0.0000, 0.0000, 0.0000, 0.0000, 0.0000, 0.1140,\n",
      "         0.0000, 0.1780, 0.2936, 0.0000, 0.0000, 0.3558, 0.0000, 0.0000, 0.0000,\n",
      "         0.3938, 0.2266],\n",
      "        [0.3446, 0.0000, 0.0000, 0.0175, 0.0000, 0.0000, 0.0292, 0.0000, 0.3856,\n",
      "         0.0000, 0.0000, 0.0000, 0.0000, 0.0000, 0.2926, 0.1275, 0.0000, 0.0000,\n",
      "         0.1042, 0.0875],\n",
      "        [0.0102, 0.1174, 0.0000, 0.0000, 0.0000, 0.0000, 0.0000, 0.2630, 0.1790,\n",
      "         0.0000, 0.2135, 0.0000, 0.0000, 0.0000, 0.4785, 0.0000, 0.0000, 0.0000,\n",
      "         0.2369, 0.0000]], grad_fn=<ReluBackward0>)\n",
      "\n",
      "\n",
      "After ReLU: tensor([[0.2936, 0.0000, 0.0000, 0.0000, 0.0000, 0.0000, 0.0000, 0.0000, 0.1140,\n",
      "         0.0000, 0.1780, 0.2936, 0.0000, 0.0000, 0.3558, 0.0000, 0.0000, 0.0000,\n",
      "         0.3938, 0.2266],\n",
      "        [0.3446, 0.0000, 0.0000, 0.0175, 0.0000, 0.0000, 0.0292, 0.0000, 0.3856,\n",
      "         0.0000, 0.0000, 0.0000, 0.0000, 0.0000, 0.2926, 0.1275, 0.0000, 0.0000,\n",
      "         0.1042, 0.0875],\n",
      "        [0.0102, 0.1174, 0.0000, 0.0000, 0.0000, 0.0000, 0.0000, 0.2630, 0.1790,\n",
      "         0.0000, 0.2135, 0.0000, 0.0000, 0.0000, 0.4785, 0.0000, 0.0000, 0.0000,\n",
      "         0.2369, 0.0000]], grad_fn=<ReluBackward0>)\n"
     ]
    }
   ],
   "source": [
    "print(f\"Before ReLU: {hidden1}\\n\\n\")\n",
    "hidden1 = nn.ReLU()(hidden1)\n",
    "print(f\"After ReLU: {hidden1}\")"
   ]
  },
  {
   "cell_type": "markdown",
   "id": "e9516554-9d71-47f0-8b62-38ae886df005",
   "metadata": {},
   "source": [
    "### nn.Sequential\n",
    "\n",
    "[nn.Sequential](https://pytorch.org/docs/stable/generated/torch.nn.Sequential.html)是一个模块的顺序容器。数据会以定义的顺序通过所有模块。你可以使用顺序容器来拼凑一个快速网络，如`seq_modules`。"
   ]
  },
  {
   "cell_type": "code",
   "execution_count": 36,
   "id": "3bf5780d-731d-4d6c-9fe0-0883dec5b723",
   "metadata": {
    "tags": []
   },
   "outputs": [],
   "source": [
    "seq_modules = nn.Sequential(\n",
    "    flatten,\n",
    "    layer1,\n",
    "    nn.ReLU(),\n",
    "    nn.Linear(20, 10)\n",
    ")\n",
    "input_image = torch.rand(3, 28, 28)\n",
    "logits = seq_modules(input_image)"
   ]
  },
  {
   "cell_type": "markdown",
   "id": "46792be3-2964-4b84-95e5-d906e593c150",
   "metadata": {},
   "source": [
    "### nn.Softmax\n",
    "\n",
    "神经网络的最后一个线性层返回对数--\\[-infty, infty\\]中的原始值--并传递给[nn.Softmax](https://pytorch.org/docs/stable/generated/torch.nn.Softmax.html)模块。对数被缩放为数值\\[0, 1\\]，代表模型对每个类别的预测概率。 `dim`参数表示数值必须和为1的维度。"
   ]
  },
  {
   "cell_type": "code",
   "execution_count": 37,
   "id": "a4946d48-af26-47b8-b817-bb0ba0a25c9e",
   "metadata": {
    "tags": []
   },
   "outputs": [],
   "source": [
    "softmax = nn.Softmax(dim=1)\n",
    "pred_probab = softmax(logits)"
   ]
  },
  {
   "cell_type": "markdown",
   "id": "1045a924-7a87-4fae-ac5a-279bf83bda73",
   "metadata": {},
   "source": [
    "### Model Parameters\n",
    "\n",
    "神经网络中的许多层都是参数化的，即有相关的权重和偏置，在训练中得到优化。子类化  `nn.Module` 会自动跟踪所有在你的模型对象中定义的字段，并使所有的参数可以使用你的模型的 `parameters()` 或 `named_parameters()` 方法来访问。"
   ]
  },
  {
   "cell_type": "code",
   "execution_count": 39,
   "id": "81242383-9659-47cc-af36-fcd75b4e5f8c",
   "metadata": {},
   "outputs": [
    {
     "name": "stdout",
     "output_type": "stream",
     "text": [
      "Model structure: NeuralNetwork(\n",
      "  (flatten): Flatten(start_dim=1, end_dim=-1)\n",
      "  (linear_relu_stack): Sequential(\n",
      "    (0): Linear(in_features=784, out_features=512, bias=True)\n",
      "    (1): ReLU()\n",
      "    (2): Linear(in_features=512, out_features=512, bias=True)\n",
      "    (3): ReLU()\n",
      "    (4): Linear(in_features=512, out_features=10, bias=True)\n",
      "  )\n",
      ")\n",
      "\n",
      "\n",
      "Layer: linear_relu_stack.0.weight | Size: torch.Size([512, 784]) | Values: tensor([[ 0.0041, -0.0084,  0.0075,  ..., -0.0067,  0.0141,  0.0164],\n",
      "        [ 0.0153, -0.0149, -0.0179,  ..., -0.0019, -0.0218, -0.0242]],\n",
      "       device='cuda:0', grad_fn=<SliceBackward0>)\n",
      "\n",
      "Layer: linear_relu_stack.0.bias | Size: torch.Size([512]) | Values: tensor([ 0.0037, -0.0047], device='cuda:0', grad_fn=<SliceBackward0>)\n",
      "\n",
      "Layer: linear_relu_stack.2.weight | Size: torch.Size([512, 512]) | Values: tensor([[ 0.0362,  0.0146, -0.0260,  ...,  0.0418, -0.0293,  0.0127],\n",
      "        [-0.0407,  0.0365,  0.0286,  ..., -0.0346,  0.0262, -0.0191]],\n",
      "       device='cuda:0', grad_fn=<SliceBackward0>)\n",
      "\n",
      "Layer: linear_relu_stack.2.bias | Size: torch.Size([512]) | Values: tensor([-0.0298, -0.0210], device='cuda:0', grad_fn=<SliceBackward0>)\n",
      "\n",
      "Layer: linear_relu_stack.4.weight | Size: torch.Size([10, 512]) | Values: tensor([[ 0.0298,  0.0135, -0.0155,  ...,  0.0009,  0.0332,  0.0180],\n",
      "        [-0.0416, -0.0207, -0.0043,  ..., -0.0250,  0.0043,  0.0048]],\n",
      "       device='cuda:0', grad_fn=<SliceBackward0>)\n",
      "\n",
      "Layer: linear_relu_stack.4.bias | Size: torch.Size([10]) | Values: tensor([0.0028, 0.0243], device='cuda:0', grad_fn=<SliceBackward0>)\n",
      "\n"
     ]
    }
   ],
   "source": [
    "print(f\"Model structure: {model}\\n\\n\")\n",
    "\n",
    "for name, param in model.named_parameters():\n",
    "    print(f\"Layer: {name} | Size: {param.size()} | Values: {param[:2]}\\n\")"
   ]
  },
  {
   "cell_type": "markdown",
   "id": "fbecbf38-8ded-4370-a5db-c792650d6d2d",
   "metadata": {},
   "source": [
    "## Further Reading\n",
    "- [torch.nn API](https://pytorch.org/docs/stable/nn.html)"
   ]
  },
  {
   "cell_type": "code",
   "execution_count": null,
   "id": "6e5b31d9-730d-4f26-ba37-912c42b34e5f",
   "metadata": {},
   "outputs": [],
   "source": []
  }
 ],
 "metadata": {
  "kernelspec": {
   "display_name": "jpth",
   "language": "python",
   "name": "jpth"
  },
  "language_info": {
   "codemirror_mode": {
    "name": "ipython",
    "version": 3
   },
   "file_extension": ".py",
   "mimetype": "text/x-python",
   "name": "python",
   "nbconvert_exporter": "python",
   "pygments_lexer": "ipython3",
   "version": "3.7.12"
  }
 },
 "nbformat": 4,
 "nbformat_minor": 5
}
