{
 "cells": [
  {
   "cell_type": "markdown",
   "id": "3ad041c3-6a33-4a9b-b6bd-55797f944022",
   "metadata": {
    "tags": []
   },
   "source": [
    "# PYTORCH TENSORBOARD SUPPORT\n",
    "\n",
    "本节课可以在[youtube](https://www.youtube.com/watch?v=6CEld3hZgqc)上观看。"
   ]
  },
  {
   "cell_type": "markdown",
   "id": "5bea32ce-dc8a-4425-bf6c-6c35dcf5e0c8",
   "metadata": {},
   "source": [
    "## Before You Start\n",
    "\n",
    "为了运行本教程，你需要安装PyTorch、TorchVision、Matplotlib和TensorBoard。\n",
    "\n",
    "使用 ``conda`` 安装："
   ]
  },
  {
   "cell_type": "code",
   "execution_count": null,
   "id": "dc83112c-7839-43ce-9e36-cc2041196760",
   "metadata": {},
   "outputs": [],
   "source": [
    "conda install pytorch torchvision -c pytorch\n",
    "conda install matplotlib tensorboard"
   ]
  },
  {
   "cell_type": "markdown",
   "id": "0e4c0ede-59bb-42cb-9d76-59b6c71e29ea",
   "metadata": {},
   "source": [
    "使用 ``pip`` 安装："
   ]
  },
  {
   "cell_type": "code",
   "execution_count": null,
   "id": "ad2dab44-96af-4208-a57a-eff3f76bab5b",
   "metadata": {},
   "outputs": [],
   "source": [
    "pip install torch torchvision matplotlib tensorboard"
   ]
  },
  {
   "cell_type": "markdown",
   "id": "4c139e1b-b8ef-4d2c-b0d7-cc7e4eb041ce",
   "metadata": {},
   "source": [
    "一旦依赖项安装完毕，在安装它们的 Python 环境中重新启动这篇教程。"
   ]
  },
  {
   "cell_type": "markdown",
   "id": "debbb2d9-f624-4ce9-8121-643983096ae9",
   "metadata": {},
   "source": [
    "## Introduction\n",
    "\n",
    "在这个笔记本中，我们将针对Fashion-MNIST数据集训练LeNet-5网络的一个变种。Fashion-MNIST是一组描述各种服装的图像，有10个类别的标签表示所描述的服装的类型。"
   ]
  },
  {
   "cell_type": "code",
   "execution_count": 3,
   "id": "41fcaab3-6d0c-4546-9d5f-579f06e92a8e",
   "metadata": {
    "tags": []
   },
   "outputs": [],
   "source": [
    "# PyTorch模型和训练所必要的\n",
    "import torch\n",
    "import torch.nn as nn\n",
    "import torch.nn.functional as F\n",
    "import torch.optim as optim\n",
    "\n",
    "# 图像数据集和图像操作\n",
    "import torchvision\n",
    "import torchvision.transforms as transforms\n",
    "\n",
    "# 图像展示\n",
    "import matplotlib.pyplot as plt\n",
    "import numpy as np\n",
    "\n",
    "# PyTorch TensorBoard 支持\n",
    "from torch.utils.tensorboard import SummaryWriter\n",
    "\n",
    "# 如果你使用的是已经安装了TensorFlow的环境、\n",
    "# 比如Google Colab，取消以下代码以避免\n",
    "# 在将嵌入文件保存到你的TensorBoard目录时出现的错误\n",
    "\n",
    "# import tensorflow as tf\n",
    "# import tensorboard as tb\n",
    "# tf.io.gfile = tb.compat.tensorflow_stub.io.gfile"
   ]
  },
  {
   "cell_type": "markdown",
   "id": "cbd24c83-fabd-4815-adfd-36d7e27b9da2",
   "metadata": {},
   "source": [
    "## Showing Images in TensorBoard\n",
    "\n",
    "让我们开始从我们的数据集中添加样本图片到TensorBoard："
   ]
  },
  {
   "cell_type": "code",
   "execution_count": 5,
   "id": "79c2158f-2773-476b-8084-2744fb368a7b",
   "metadata": {
    "tags": []
   },
   "outputs": [
    {
     "data": {
      "image/png": "[encoded data removed]",
      "text/plain": [
       "<Figure size 432x288 with 1 Axes>"
      ]
     },
     "metadata": {
      "needs_background": "light"
     },
     "output_type": "display_data"
    }
   ],
   "source": [
    "# 获取数据集并把它们准备好用于使用\n",
    "transform = transforms.Compose(\n",
    "    [transforms.ToTensor(),\n",
    "     transforms.Normalize((0.5,), (0.5,))])\n",
    "\n",
    "# 在./data中存储独立的训练和验证集。\n",
    "training_set = torchvision.datasets.FashionMNIST(\n",
    "    './data',\n",
    "    download=True,\n",
    "    train=True,\n",
    "    transform=transform)\n",
    "validation_set = torchvision.datasets.FashionMNIST(\n",
    "    './data',\n",
    "    download=True,\n",
    "    train=False,\n",
    "    transform=transform)\n",
    "\n",
    "training_loader = torch.utils.data.DataLoader(\n",
    "    training_set, \n",
    "    batch_size=4,\n",
    "    shuffle=True,\n",
    "    num_workers=2)\n",
    "\n",
    "validation_loader = torch.utils.data.DataLoader(\n",
    "    validation_set,\n",
    "    batch_size=4,\n",
    "    shuffle=False,\n",
    "    num_workers=2)\n",
    "\n",
    "# 类别标签\n",
    "classes = ('T-shirt/top', 'Trouser', 'Pullover', 'Dress', 'Coat',\n",
    "        'Sandal', 'Shirt', 'Sneaker', 'Bag', 'Ankle Boot')\n",
    "\n",
    "# 内置图像显示助手函数\n",
    "def matplotlib_imshow(img, one_channel=False):\n",
    "    if one_channel:\n",
    "        img = img.mean(dim=0)\n",
    "    img = img / 2 + 0.5\n",
    "    npimg = img.numpy()\n",
    "    if one_channel:\n",
    "        plt.imshow(npimg, cmap=\"Greys\")\n",
    "    else:\n",
    "        plt.imshow(np.transpose(npimg, (1, 2, 0)))\n",
    "        \n",
    "# 抽取一个有四张图片的批量\n",
    "dataiter = iter(training_loader)\n",
    "images, labels = next(dataiter)\n",
    "\n",
    "# 从图像中创建一个网格，并展示它们\n",
    "img_grid = torchvision.utils.make_grid(images)\n",
    "matplotlib_imshow(img_grid, one_channel=True)"
   ]
  },
  {
   "cell_type": "markdown",
   "id": "393e9967-c410-43e3-aa48-012d6fdadbc0",
   "metadata": {},
   "source": [
    "上面，我们使用TorchVision和Matplotlib来创建一个我们输入数据的minibatch的视觉网格。下面，我们使用 ``SummaryWriter``上的 ``add_image()`` 调用来记录图像供TensorBoard使用，我们还调用 ``flush()`` 来确保它被立即写入磁盘。"
   ]
  },
  {
   "cell_type": "code",
   "execution_count": 6,
   "id": "621be4cd-2945-40dc-ad7d-395e138fcabc",
   "metadata": {
    "tags": []
   },
   "outputs": [],
   "source": [
    "# 默认的log_dir参数是\"runs\"， 但是最好能具体一点\n",
    "# torch.utils.tensorboard.SummaryWriter 已经在上面被导入\n",
    "writer = SummaryWriter('runs/fashion_mnist_experiment_1')\n",
    "\n",
    "# 将图像数据写入TensorBoard日志目录\n",
    "writer.add_image('Four Fashion-MNIST Images', img_grid)\n",
    "writer.flush()\n",
    "\n",
    "# 要查看，在命令行上用以下方法启动TensorBoard：\n",
    "# tensorboard --logdir=runs\n",
    "# ...并打开一个浏览器标签页，http://localhost:6006/"
   ]
  },
  {
   "cell_type": "markdown",
   "id": "9b933762-caf2-4175-83a4-a234a1859544",
   "metadata": {},
   "source": [
    "如果你在命令行启动TensorBoard并在一个新的浏览器标签页中打开它（通常在<localhost:6006>），你应该在IMAGES标签下看到图像网格。"
   ]
  },
  {
   "cell_type": "markdown",
   "id": "43aff8b3-ff3f-4e13-835e-eaa8f80c80f6",
   "metadata": {},
   "source": [
    "## Graphing Scalars to Visualize Training\n",
    "\n",
    "TensorBoard对于跟踪你的训练进度和效果非常有用。下面，我们将运行一个训练循环，跟踪一些指标，并保存数据供TensorBoard使用。\n",
    "\n",
    "让我们定义一个模型以及一个优化器和损失函数来分类我们的图像："
   ]
  },
  {
   "cell_type": "code",
   "execution_count": 14,
   "id": "fd4df5f5-9e42-4646-bdd6-00c551e89cfd",
   "metadata": {
    "tags": []
   },
   "outputs": [],
   "source": [
    "class Net(nn.Module):\n",
    "    def __init__(self):\n",
    "        super(Net, self).__init__()\n",
    "        self.conv1 = nn.Conv2d(1, 6, 5)\n",
    "        self.pool = nn.MaxPool2d(2, 2)\n",
    "        self.conv2 = nn.Conv2d(6, 16, 5)\n",
    "        self.fc1 = nn.Linear(16 * 4 * 4, 120)\n",
    "        self.fc2 = nn.Linear(120, 84)\n",
    "        self.fc3 = nn.Linear(84, 10)\n",
    "\n",
    "    def forward(self, x):\n",
    "        x = self.pool(F.relu(self.conv1(x)))\n",
    "        x = self.pool(F.relu(self.conv2(x)))\n",
    "        x = x.view(-1, 16 * 4 * 4)\n",
    "        x = F.relu(self.fc1(x))\n",
    "        x = F.relu(self.fc2(x))\n",
    "        x = self.fc3(x)\n",
    "        return x\n",
    "\n",
    "\n",
    "net = Net()\n",
    "criterion = nn.CrossEntropyLoss()\n",
    "optimizer = optim.SGD(net.parameters(), lr=0.001, momentum=0.9)"
   ]
  },
  {
   "cell_type": "markdown",
   "id": "01ce9cc2-ee25-4e72-ae2a-2d33cac9742a",
   "metadata": {},
   "source": [
    "现在让我们训练一个单一的世代，并每1000个批次评估一次训练与验证集的损失："
   ]
  },
  {
   "cell_type": "code",
   "execution_count": 17,
   "id": "05964625-08a6-460e-ba78-5ce5635b304d",
   "metadata": {
    "tags": []
   },
   "outputs": [
    {
     "name": "stdout",
     "output_type": "stream",
     "text": [
      "2500\n",
      "Batch 1000\n",
      "Batch 2000\n",
      "Batch 3000\n",
      "Batch 4000\n",
      "Batch 5000\n",
      "Batch 6000\n",
      "Batch 7000\n",
      "Batch 8000\n",
      "Batch 9000\n",
      "Batch 10000\n",
      "Batch 11000\n",
      "Batch 12000\n",
      "Batch 13000\n",
      "Batch 14000\n",
      "Batch 15000\n",
      "Finished Training\n"
     ]
    }
   ],
   "source": [
    "print(len(validation_loader))\n",
    "for epoch in range(1):  # 循环数据集的次数\n",
    "    running_loss = 0.0\n",
    "    \n",
    "    for i, data in enumerate(training_loader, 0):\n",
    "        # 基本的训练循环\n",
    "        inputs, labels = data\n",
    "        optimizer.zero_grad()\n",
    "        outputs = net(inputs)\n",
    "        loss = criterion(outputs, labels)\n",
    "        loss.backward()\n",
    "        optimizer.step()\n",
    "        \n",
    "        running_loss += loss.item()\n",
    "        if i % 1000 == 999:  # 每1000个mini-batches...\n",
    "            print('Batch {}'.format(i + 1))\n",
    "            running_vloss = 0.0\n",
    "            \n",
    "            net.train(False)  # 对于验证不需要跟踪梯度\n",
    "            for j, vdata in enumerate(validation_loader, 0):\n",
    "                vinputs, vlabels = vdata\n",
    "                voutputs = net(vinputs)\n",
    "                vloss = criterion(voutputs, vlabels)\n",
    "                running_vloss += vloss.item()\n",
    "            net.train(True)  # 为训练重新打开梯度\n",
    "            \n",
    "            avg_loss = running_loss / 1000\n",
    "            avg_vloss = running_vloss / len(validation_loader)\n",
    "            \n",
    "            # 记录每个批次的平均运行损失\n",
    "            writer.add_scalars('Training vs. Validation Loss',\n",
    "                               { 'Training' : avg_loss, 'Validation' : avg_vloss},\n",
    "                               epoch * len(training_loader) + i)\n",
    "            running_loss = 0.0\n",
    "print('Finished Training')\n",
    "\n",
    "writer.flush()"
   ]
  },
  {
   "cell_type": "markdown",
   "id": "4b68b035-b717-4d1c-b897-d5e313fccfb1",
   "metadata": {},
   "source": [
    "切换到你打开的TensorBoard，看一下SCALARS选项卡。"
   ]
  },
  {
   "cell_type": "markdown",
   "id": "8b3e00e0-20e9-4413-ab80-f6244760161d",
   "metadata": {},
   "source": [
    "## Visualizing Your Model\n",
    "\n",
    "TensorBoard也可以用来检查模型中的数据流。要做到这一点，需要对模型和样本输入调用 ``add_graph()`` 方法。当你打开"
   ]
  },
  {
   "cell_type": "code",
   "execution_count": 18,
   "id": "b9fb0fc2-bf4f-4061-b60f-266e2d973dd9",
   "metadata": {
    "tags": []
   },
   "outputs": [],
   "source": [
    "# 同样，抓取一个小型的图像批次\n",
    "dataiter = iter(training_loader)\n",
    "images, labels = next(dataiter)\n",
    "\n",
    "# add_graph() 将会跟踪整个模型的样本输入，\n",
    "# 并且将它们记录为一张图\n",
    "writer.add_graph(net, images)\n",
    "writer.flush()"
   ]
  },
  {
   "cell_type": "markdown",
   "id": "acee76e9-c7d5-4dd0-80b0-19bbfc844422",
   "metadata": {},
   "source": [
    "当你切换到TensorBoard，可以看到一个GRAPHS标签。双击 \"NET \"节点以查看模型中的层和数据流。"
   ]
  },
  {
   "cell_type": "markdown",
   "id": "7a933791-1615-4ee5-87ee-db7ad1680a18",
   "metadata": {},
   "source": [
    "## Visualizing Your Dataset with Embeddings\n",
    "\n",
    "我们使用的28乘28的图像块可以被建模为784维的向量（28\\*28=784）。将其投射到一个较低维度的表示上可能会有启发。``add_embedding()`` 方法将把一组数据投射到方差最大的三个维度上，并将它们显示为一个交互式的三维图表。``add_embedding()`` 方法通过投射到方差最大的三个维度来自动完成这一工作。\n",
    "\n",
    "下面，我们将从我们的数据中抽取一个样本，并生成这样一个嵌入："
   ]
  },
  {
   "cell_type": "code",
   "execution_count": 20,
   "id": "25613f11-599a-4dbc-88fd-dab8700fcdf1",
   "metadata": {},
   "outputs": [],
   "source": [
    "# 选择数据的一个随机子序列和它们相应的标签\n",
    "def select_n_random(data, labels, n=100):\n",
    "    assert len(data) == len(labels)\n",
    "    \n",
    "    perm = torch.randperm(len(data))\n",
    "    return data[perm][:n],  labels[perm][:n]\n",
    "\n",
    "# 提取一个随机的数据子集\n",
    "images, labels = select_n_random(training_set.data, training_set.targets)\n",
    "\n",
    "# 为每个图片获取类标签\n",
    "class_labels = [classes[label] for label in labels]\n",
    "\n",
    "# 记录嵌入\n",
    "features = images.view(-1, 28 * 28)\n",
    "writer.add_embedding(features,\n",
    "                     metadata=class_labels,\n",
    "                     label_img=images.unsqueeze(1))\n",
    "writer.flush()\n",
    "writer.close()"
   ]
  },
  {
   "cell_type": "markdown",
   "id": "282c57ac-6fcb-4693-b4b9-566479c52d69",
   "metadata": {},
   "source": [
    "现在，如果你切换到TensorBoard并选择PROJECTOR选项卡，你应该看到投影的3D表现。你可以旋转和缩放该模型。在大尺度和小尺度上检查它，看看你是否能发现投影数据的模式和标签的聚类。\n",
    "\n",
    "为了获得更好的可见度，建议：\n",
    "\n",
    "- 从左边的 \"Color by\" 下拉菜单中选择 \"label\"。\n",
    "\n",
    "- 沿着顶部切换 \"夜间模式 \"图标，将浅色图像放在深色背景上。"
   ]
  },
  {
   "cell_type": "markdown",
   "id": "d9d6b59a-1eda-4a45-bdc5-771aa322bf32",
   "metadata": {},
   "source": [
    "## Other Resources\n",
    "\n",
    "更多信息请看:\n",
    "\n",
    "- PyTorch文档 [torch.utils.tensorboard.SummaryWriter](https://pytorch.org/docs/stable/tensorboard.html?highlight=summarywriter)\n",
    "\n",
    "- Tensorboard 教程 [PyTorch.org Tutorials](https://pytorch.org/tutorials/)\n",
    "\n",
    "- 更多TensorBoard信息, 请看 [TensorBoard documentation](https://www.tensorflow.org/tensorboard)"
   ]
  },
  {
   "cell_type": "code",
   "execution_count": null,
   "id": "ed5e70dd-f98d-4225-9be7-cd8129b2c0ce",
   "metadata": {},
   "outputs": [],
   "source": []
  }
 ],
 "metadata": {
  "kernelspec": {
   "display_name": "jpth",
   "language": "python",
   "name": "jpth"
  },
  "language_info": {
   "codemirror_mode": {
    "name": "ipython",
    "version": 3
   },
   "file_extension": ".py",
   "mimetype": "text/x-python",
   "name": "python",
   "nbconvert_exporter": "python",
   "pygments_lexer": "ipython3",
   "version": "3.7.12"
  }
 },
 "nbformat": 4,
 "nbformat_minor": 5
}
