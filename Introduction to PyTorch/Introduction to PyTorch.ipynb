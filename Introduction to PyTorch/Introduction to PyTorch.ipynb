{
 "cells": [
  {
   "cell_type": "markdown",
   "id": "899ff144-d476-4755-b1b4-32a1c74ac97f",
   "metadata": {},
   "source": [
    "# INTRODUCTION TO PYTORCH\n",
    "\n",
    "<img src=\"https://pytorch.org/tutorials/_static/images/pytorch-colab.svg\" width = \"25\"/>  [Colab](https://colab.research.google.com/github/pytorch/tutorials/blob/gh-pages/_downloads/3195443a0ced3cabc0ad643537bdb5cd/introyt1_tutorial.ipynb)"
   ]
  },
  {
   "cell_type": "markdown",
   "id": "b149d504-6c21-4fee-8c21-0b7aa5468612",
   "metadata": {},
   "source": [
    "## PyTorch Tensors\n",
    "\n",
    "首先我们导入Pytorch包"
   ]
  },
  {
   "cell_type": "code",
   "execution_count": 2,
   "id": "310af6bd-eef6-4e29-85ac-9325b530b0b6",
   "metadata": {
    "tags": []
   },
   "outputs": [],
   "source": [
    "import torch"
   ]
  },
  {
   "cell_type": "markdown",
   "id": "47fb1f8e-a5ba-4d68-b8f0-1d68f5002548",
   "metadata": {},
   "source": [
    "张量（Tensor）的基本的操作。首先我们我们使用不同的方式创建张量："
   ]
  },
  {
   "cell_type": "code",
   "execution_count": 3,
   "id": "92900924-f77d-4000-a79e-811400e627a5",
   "metadata": {
    "tags": []
   },
   "outputs": [
    {
     "name": "stdout",
     "output_type": "stream",
     "text": [
      "tensor([[0., 0., 0.],\n",
      "        [0., 0., 0.],\n",
      "        [0., 0., 0.],\n",
      "        [0., 0., 0.],\n",
      "        [0., 0., 0.]])\n",
      "torch.float32\n"
     ]
    }
   ],
   "source": [
    "z = torch.zeros(5, 3)\n",
    "print(z)\n",
    "print(z.dtype)"
   ]
  },
  {
   "cell_type": "markdown",
   "id": "487a1cda-978b-4d7a-86d8-aced1908c6b6",
   "metadata": {},
   "source": [
    "上面的代码创建了一个5x3的全 0 矩阵，并查询其数据类型，发现这些 0 是32位浮点数（float32)类型，这也是PyTorch默认的类型。\n",
    "\n",
    "如果你想换成整数类型呢？你可以重写默认类型："
   ]
  },
  {
   "cell_type": "code",
   "execution_count": 4,
   "id": "ebe6d19a-f965-4be6-8360-8bbb50c2fbca",
   "metadata": {
    "tags": []
   },
   "outputs": [
    {
     "name": "stdout",
     "output_type": "stream",
     "text": [
      "tensor([[1, 1, 1],\n",
      "        [1, 1, 1],\n",
      "        [1, 1, 1],\n",
      "        [1, 1, 1],\n",
      "        [1, 1, 1]], dtype=torch.int16)\n"
     ]
    }
   ],
   "source": [
    "i = torch.ones((5, 3), dtype=torch.int16)\n",
    "print(i)"
   ]
  },
  {
   "cell_type": "markdown",
   "id": "6cfe4279-d3b5-4c5b-8878-9a1174b43d40",
   "metadata": {},
   "source": [
    "你可以看到，当我们改变默认数据类型时，打印张量时输出了相应的数据类型。\n",
    "\n",
    "随机初始化学习权重是很常见的，为了结果的可重复性，通常会用一个特定的PRNG种子："
   ]
  },
  {
   "cell_type": "code",
   "execution_count": 6,
   "id": "309cbe0f-de2b-415e-b3d5-dfa191753925",
   "metadata": {
    "tags": []
   },
   "outputs": [
    {
     "name": "stdout",
     "output_type": "stream",
     "text": [
      "一个随机张量r1：\n",
      "tensor([[0.3126, 0.3791],\n",
      "        [0.3087, 0.0736]])\n",
      "\n",
      " 与r1不同的随机张量r2：\n",
      "tensor([[0.4216, 0.0691],\n",
      "        [0.2332, 0.4047]])\n",
      "\n",
      " 与r1相同的随机张量r3：\n",
      "tensor([[0.3126, 0.3791],\n",
      "        [0.3087, 0.0736]])\n"
     ]
    }
   ],
   "source": [
    "torch.manual_seed(1729)\n",
    "r1 = torch.rand(2, 2)\n",
    "print('一个随机张量r1：')\n",
    "print(r1)\n",
    "\n",
    "r2 = torch.rand(2, 2)\n",
    "print('\\n 与r1不同的随机张量r2：')\n",
    "print(r2) # 与r1具有不同的随机值\n",
    "\n",
    "torch.manual_seed(1729)\n",
    "r3 = torch.rand(2, 2)\n",
    "print('\\n 与r1相同的随机张量r3：')\n",
    "print(r3) # 与r1的值相同，应为我们使用了相同的随机数种子"
   ]
  },
  {
   "cell_type": "markdown",
   "id": "44219198-a582-46b6-bb52-dae4d1ea09e3",
   "metadata": {
    "tags": []
   },
   "source": [
    "PyTorch中的张量能直观地进行算术运算。相似形状的张量可以进行加法、乘法等操作。对标量的操作分布在张量上："
   ]
  },
  {
   "cell_type": "code",
   "execution_count": 8,
   "id": "e8f40b55-aafe-4293-bb86-f205d63aef05",
   "metadata": {
    "tags": []
   },
   "outputs": [
    {
     "name": "stdout",
     "output_type": "stream",
     "text": [
      "tensor([[1., 1., 1.],\n",
      "        [1., 1., 1.]])\n",
      "tensor([[2., 2., 2.],\n",
      "        [2., 2., 2.]])\n",
      "tensor([[3., 3., 3.],\n",
      "        [3., 3., 3.]])\n",
      "torch.Size([2, 3])\n"
     ]
    }
   ],
   "source": [
    "ones = torch.ones(2, 3)\n",
    "print(ones)\n",
    "\n",
    "twos = torch.ones(2, 3) * 2 #对每个元素乘以2\n",
    "print(twos)\n",
    "\n",
    "threes = ones + twos # 由于ones和twos的形状相同，所以可以进行相加\n",
    "print(threes) # 张量按逐元素相加\n",
    "print(threes.shape) # 输出张量维度与输入张量维度相同\n",
    "\n",
    "r1 = torch.rand(2, 3)\n",
    "r2 = torch.rand(3, 2)\n",
    "# r3 = r1 + r2\n",
    "# 运行注释掉的代码会报runtime error"
   ]
  },
  {
   "cell_type": "markdown",
   "id": "e3684f97-9e16-4bf4-9668-2eb75e1170d2",
   "metadata": {},
   "source": [
    "这里是一些可用的算术运算的例子："
   ]
  },
  {
   "cell_type": "code",
   "execution_count": 9,
   "id": "07500db8-bedb-4445-9d2e-f29d9421e5a0",
   "metadata": {
    "tags": []
   },
   "outputs": [
    {
     "name": "stdout",
     "output_type": "stream",
     "text": [
      " 一个随机数矩阵，r：\n",
      "tensor([[ 0.9956, -0.2232],\n",
      "        [ 0.3858, -0.6593]])\n",
      "\n",
      " r的绝对值：\n",
      "tensor([[0.9956, 0.2232],\n",
      "        [0.3858, 0.6593]])\n",
      "\n",
      " r的反sine函数\n",
      "tensor([[ 1.4775, -0.2251],\n",
      "        [ 0.3961, -0.7199]])\n",
      "\n",
      " r的行列式值：\n",
      "tensor(-0.5703)\n",
      "\n",
      " r的奇异值分解：\n",
      "torch.return_types.svd(\n",
      "U=tensor([[-0.8353, -0.5497],\n",
      "        [-0.5497,  0.8353]]),\n",
      "S=tensor([1.1793, 0.4836]),\n",
      "V=tensor([[-0.8851, -0.4654],\n",
      "        [ 0.4654, -0.8851]]))\n",
      "\n",
      " r的平均值和方差：\n",
      "(tensor(0.7217), tensor(0.1247))\n",
      "\n",
      " r的最大值：\n",
      "tensor(0.9956)\n"
     ]
    }
   ],
   "source": [
    "r = (torch.rand(2, 2) - 0.5) * 2 # 值介于 -1和 1 之间\n",
    "print(\" 一个随机数矩阵，r：\")\n",
    "print(r)\n",
    "\n",
    "# 支持常用的算术运算：\n",
    "print(\"\\n r的绝对值：\")\n",
    "print(torch.abs(r))\n",
    "\n",
    "# 三角函数\n",
    "print(\"\\n r的反sine函数\")\n",
    "print(torch.asin(r))\n",
    "\n",
    "# 线性代数运算，如行列式和奇异值分解\n",
    "print(\"\\n r的行列式值：\")\n",
    "print(torch.det(r))\n",
    "print(\"\\n r的奇异值分解：\")\n",
    "print(torch.svd(r))\n",
    "\n",
    "# 统计和集合运算\n",
    "print(\"\\n r的平均值和方差：\")\n",
    "print(torch.std_mean(r))\n",
    "print(\"\\n r的最大值：\")\n",
    "print(torch.max(r))"
   ]
  },
  {
   "cell_type": "markdown",
   "id": "2f10f114-371d-4b9e-8132-1530ec67941e",
   "metadata": {},
   "source": [
    "## PyTorch Models\n",
    "\n",
    "让我们看看如何在PyTorch中如何定义模型"
   ]
  },
  {
   "cell_type": "code",
   "execution_count": 10,
   "id": "89756a8a-8b63-4cc5-b08e-c114fb67a930",
   "metadata": {
    "tags": []
   },
   "outputs": [],
   "source": [
    "import torch \n",
    "import torch.nn as nn # 为了使用 torch.nn.Module, 这是PyTorch中所有模型的父类\n",
    "import torch.nn.functional as F # 为了使用激活函数"
   ]
  },
  {
   "cell_type": "markdown",
   "id": "fa5e872d-8e7d-454b-aec3-21db8b5b9d80",
   "metadata": {},
   "source": [
    "![Figure:LeNet-5](https://pytorch.org/tutorials/_images/mnist.png)\n",
    "上面是LeNet-5的示意图，它是最早的卷积神经网络之一，也是深度学习爆发的驱动力之一。它可以读取手写数字的小图像（MNIST数据集），并正确分类图像中代表的数字。\n",
    "\n",
    "以下是其工作原理的简略版本：\n",
    "\n",
    "- C1层是一个卷积层，它可以扫描输入的图像，并在训练期间学到图像的特征。它的输出是一张特征图，表示它在图像中看到的每一个所学特征。这个 \"激活图 \"在第S2层中被下采样处理。\n",
    "- 第C3层是另一个卷积层，这次是扫描C1的激活图以寻找特征之间的联系。它还提出了一个描述这些特征组合的空间位置的激活图，该激活图在第4层被下采样。\n",
    "- 最后的全连接层，F5、F6和OUTPUT，是一个分类器，将最终的激活图，分类到代表10个数字的10个类中。\n",
    "\n",
    "我们如何使用代码表示这个简单的神经网络呢？"
   ]
  },
  {
   "cell_type": "code",
   "execution_count": 11,
   "id": "e8166ae8-7b40-48f1-93a3-bd0b81ca03cc",
   "metadata": {
    "tags": []
   },
   "outputs": [],
   "source": [
    "class LeNet(nn.Module):\n",
    "    \n",
    "    def __init__(self):\n",
    "        super(LeNet, self).__init__()\n",
    "        # 1个输入图像通道（黑色和白色），6个输出通道，5x5正方形卷积核\n",
    "        self.conv1 = nn.Conv2d(1, 6, 5)\n",
    "        self.conv2 = nn.Conv2d(6, 16, 5)\n",
    "        # 一个仿射（线性）运算： y = Wx + b\n",
    "        self.fc1 = nn.Linear(16 * 5* 5, 120) # 5*5是图像尺寸\n",
    "        self.fc2 = nn.Linear(120, 84)\n",
    "        self.fc3 = nn.Linear(84, 10)\n",
    "    \n",
    "    def forward(self, x):\n",
    "        # 在一个(2, 2)窗口上的最大池化\n",
    "        x = F.max_pool2d(F.relu(self.conv1(x)), (2, 2))\n",
    "        # 如果尺寸是一个平方数，你只能指定一个数字\n",
    "        x = F.max_pool2d(F.relu(self.conv2(x)), 2)\n",
    "        x = x.view(-1, self.num_flat_features(x)) # 改变x的形状变为（batch, 其他所有维度相乘）\n",
    "        x = F.relu(self.fc1(x))\n",
    "        x = F.relu(self.fc2(x))\n",
    "        x = self.fc3(x)\n",
    "        return x\n",
    "    \n",
    "    def num_flat_features(self, x):\n",
    "        size = x.size()[1:] # size拿到了除批量维度（batch)外x的所有维度\n",
    "        num_features = 1\n",
    "        for s in size:\n",
    "            num_features *= s\n",
    "        return num_features"
   ]
  },
  {
   "cell_type": "markdown",
   "id": "857d1faf-23be-4fbd-8287-442ae7124128",
   "metadata": {},
   "source": [
    "翻看这段代码，你应该能够发现与上图的一些结构上的相似之处。\n",
    "\n",
    "它展示了一个典型的PyTorch模型的结构：\n",
    "\n",
    "- 这个模型继承了 `torch.nn.Module` - 模块可以嵌套使用 - 事实上，`Conv2d` 和 `Linear` 层类也继承于 `torch.nn.Module`。\n",
    "- 一个模型会有一个实例化它用到的层的 `__init__()` 函数，并在这里加载它可能需要的任何数据处理工具（例如，一个NLP模型可能加载一个词汇表）。\n",
    "- 一个模型会有一个`forward()`函数。这就是实际计算发生的地方： 模型输入通过网络层和各种函数来生成一个输出。\n",
    "- 除此之外，你可以像其他的 Python 类一样建立你的模型类，添加你需要的任何属性和方法来支持你的模型的计算。\n",
    "\n",
    "让我们实例化这个对象并通过一个样本输入运行它。"
   ]
  },
  {
   "cell_type": "code",
   "execution_count": 18,
   "id": "02eae974-bd74-47a2-b86e-42e1d6c9efe9",
   "metadata": {
    "tags": []
   },
   "outputs": [
    {
     "name": "stdout",
     "output_type": "stream",
     "text": [
      "LeNet(\n",
      "  (conv1): Conv2d(1, 6, kernel_size=(5, 5), stride=(1, 1))\n",
      "  (conv2): Conv2d(6, 16, kernel_size=(5, 5), stride=(1, 1))\n",
      "  (fc1): Linear(in_features=400, out_features=120, bias=True)\n",
      "  (fc2): Linear(in_features=120, out_features=84, bias=True)\n",
      "  (fc3): Linear(in_features=84, out_features=10, bias=True)\n",
      ")\n",
      "\n",
      "图像批量形状：\n",
      "torch.Size([1, 1, 32, 32])\n",
      "\n",
      "原始输出:\n",
      "tensor([[ 0.0529,  0.0524, -0.1088,  0.0330,  0.0133, -0.0496,  0.0871, -0.0215,\n",
      "          0.0699,  0.0278]], grad_fn=<AddmmBackward0>)\n",
      "torch.Size([1, 10])\n"
     ]
    }
   ],
   "source": [
    "net = LeNet()\n",
    "print(net) # 打印网络结构\n",
    "\n",
    "input = torch.rand(1, 1, 32, 32) # 生成一个随机张量表示一张32x32的黑白图像\n",
    "print('\\n图像批量形状：')\n",
    "print(input.shape)\n",
    "\n",
    "output = net(input) # 我们不直接调用forward()\n",
    "print('\\n原始输出:')\n",
    "print(output)\n",
    "print(output.shape)"
   ]
  },
  {
   "cell_type": "markdown",
   "id": "376ae59e-2a84-4a46-8e70-5952b582d792",
   "metadata": {
    "tags": []
   },
   "source": [
    "上面发生了几件重要的事情：\n",
    "\n",
    "首先，我们实例化了`LeNet`类，并打印了`net`对象。`torch.nn.Module`的子类将报告它所创建的层以及它们的形状和参数。如果你想了解一个模型的处理要领，这提供了一个的概述。\n",
    "\n",
    "接下来，我们创建一个假的输入，代表一个32x32的单通道的图像。通常情况下，你会加载一个图像并将其转换为这种形状的张量。\n",
    "\n",
    "你可能已经发现我们的张量有一个额外的维度--批处理维度。PyTorch模型假定它们是在成批的数据上工作的--例如，一批16张的图像的形状是`(16，1，32，32)`。由于我们只使用一张图片，所以我们创建了一个形状为`(1，1，32，32)`的批次。\n",
    "\n",
    "我们像调用函数一样调用模型来让它进行推理：`net(input)`。这个调用的输出代表了模型对输入代表一个特定数字的置信度。(由于该模型的这个实例还没有学到任何东西，我们不期望在输出中看到任何有用的推理）。看一下输出的`形状`，我们可以看到它也有一个批次维度，其大小应该总是与输入批次维度相匹配。如果我们传入一个16个实例的输入批，`输出`的形状将是`(16，10)`。"
   ]
  },
  {
   "cell_type": "markdown",
   "id": "d5e59d41-0967-4937-8f0c-40eaafb480a2",
   "metadata": {},
   "source": [
    "## Datasets and Dataloaders\n",
    "\n",
    "下面，我们将演示如何使用TorchVision的开放数据集，如何转换数据集中的图像供你的模型使用，以及如何使用DataLoader向你的模型输入成批的数据。\n",
    "\n",
    "我们需要做的第一件事是将我们传入的图像转换为PyTorch张量。"
   ]
  },
  {
   "cell_type": "code",
   "execution_count": 19,
   "id": "852c662b-a0bc-4971-9b9d-42f14cf3f36e",
   "metadata": {
    "tags": []
   },
   "outputs": [],
   "source": [
    "import torch\n",
    "import torchvision\n",
    "import torchvision.transforms as transforms\n",
    "\n",
    "transform = transforms.Compose([transforms.ToTensor(),\n",
    "     transforms.Normalize((0.5, 0.5, 0.5), (0.5, 0.5, 0.5))])"
   ]
  },
  {
   "cell_type": "markdown",
   "id": "cc0b0e09-74b6-4d8e-9f86-936305a3cc63",
   "metadata": {},
   "source": [
    "这里，我们为输出指定了两种变换：\n",
    "- `transforms.ToTensor()` 将Pillow加载的图片转换为了PyTorch张量。\n",
    "- `transforms.Normalize()` 调整张量的值，使其平均值为零，标准差为0.5。大多数激活函数在 x=0 附近有最大的梯度，因此将我们的数据集中在那里可以加速学习。\n",
    "\n",
    "还有许多可用的变换，包括裁剪、居中、旋转和反射。\n",
    "\n",
    "接下来，我们将创建一个CIFAR10数据集的实例。这是一组32x32的彩色图像，包含10类物体： 6种动物（鸟、猫、鹿、狗、青蛙、马）和4种交通工具（飞机、汽车、船、卡车）："
   ]
  },
  {
   "cell_type": "code",
   "execution_count": 20,
   "id": "b8fcbe72-0dfe-46df-94d3-a834d2163315",
   "metadata": {
    "tags": []
   },
   "outputs": [
    {
     "name": "stdout",
     "output_type": "stream",
     "text": [
      "Downloading https://www.cs.toronto.edu/~kriz/cifar-10-python.tar.gz to ./data/cifar-10-python.tar.gz\n"
     ]
    },
    {
     "name": "stderr",
     "output_type": "stream",
     "text": [
      "100%|██████████| 170498071/170498071 [5:20:22<00:00, 8869.72it/s]   \n"
     ]
    },
    {
     "name": "stdout",
     "output_type": "stream",
     "text": [
      "Extracting ./data/cifar-10-python.tar.gz to ./data\n"
     ]
    }
   ],
   "source": [
    "trainset = torchvision.datasets.CIFAR10(\n",
    "    root = './data', \n",
    "    train=True, \n",
    "    download=True, \n",
    "    transform=transform)"
   ]
  },
  {
   "cell_type": "markdown",
   "id": "7b0057cf-6149-4e46-964f-7c061b231881",
   "metadata": {},
   "source": [
    "> **小贴士**\n",
    ">\n",
    "> 当你运行上面的代码块时，可能会花一些时间下载数据集。"
   ]
  },
  {
   "cell_type": "markdown",
   "id": "79b1bd46-0b88-42a8-9757-604d6d0e7cb4",
   "metadata": {},
   "source": [
    "这是一个在PyTorch中创建数据集对象的例子。下载的数据集（如上面的CIFAR-10）是`Torch.utils.data.Dataset`的子类。PyTorch中的数据集类包括TorchVision、Torchtext和TorchAudio中的可下载数据集，以及实用数据集类，如`torchvision.datasets.ImageFolder`，它将读取一个标记的图像文件夹。你也可以创建你自己的数据集的子类。\n",
    "\n",
    "当我们实例化我们的数据集时，我们需要告诉它一些事情：\n",
    "\n",
    "- 文件系统路径是我们希望数据所存储的位置。\n",
    "\n",
    "- 我们是否使用这个数据集进行训练；大多数数据集将被分成训练和测试子集。\n",
    "\n",
    "- 如果我们还没有下载数据集，我们是否想下载它。\n",
    "\n",
    "- 我们要对数据进行什么样的转换。\n",
    "\n",
    "一旦你的数据集准备好了，你就可以把它交给`DataLoader`："
   ]
  },
  {
   "cell_type": "code",
   "execution_count": 21,
   "id": "f5adc33f-9965-44aa-93a2-aee3a1591bb2",
   "metadata": {
    "tags": []
   },
   "outputs": [],
   "source": [
    "trainloader = torch.utils.data.DataLoader(trainset, batch_size=4, shuffle=True, num_workers=2)"
   ]
  },
  {
   "cell_type": "markdown",
   "id": "65068176-87b9-4bfb-a050-6309a68ee474",
   "metadata": {},
   "source": [
    "`Dataset` 的子类封装了对数据的访问，并且特定于它所服务的数据类型。`DataLoader` 对数据一无所知，而是将`Dataset`所提供的输入张量按照你指定的参数组织成批次。\n",
    "\n",
    "在上面的例子中，我们要求 `DataLoader` 从 `trainset` 中提供4张图片组成的批次，并将它们的顺序打乱（`shuffle=True`），我们告诉它启动两个workers从磁盘加载数据。\n",
    "\n",
    "将你的DataLoader提供的batches可视化："
   ]
  },
  {
   "cell_type": "code",
   "execution_count": 27,
   "id": "3268b29b-52ee-43da-83eb-43d8f6ab1aee",
   "metadata": {
    "tags": []
   },
   "outputs": [
    {
     "name": "stdout",
     "output_type": "stream",
     "text": [
      "  car plane   cat   dog\n"
     ]
    },
    {
     "data": {
      "image/png": "[encoded data removed]",
      "text/plain": [
       "<Figure size 432x288 with 1 Axes>"
      ]
     },
     "metadata": {
      "needs_background": "light"
     },
     "output_type": "display_data"
    }
   ],
   "source": [
    "import matplotlib.pyplot as plt\n",
    "import numpy as np\n",
    "\n",
    "classes = ('plane', 'car', 'bird', 'cat', 'deer', 'dog', 'frog', 'hourse', 'ship', 'truck')\n",
    "\n",
    "def imshow(img):\n",
    "    img = img / 2 + 0.5 # 未正则化\n",
    "    npimg = img.numpy()\n",
    "    plt.imshow(np.transpose(npimg, (1, 2, 0)))\n",
    "    \n",
    "# 获取一些随机的训练图像\n",
    "dataiter = iter(trainloader)\n",
    "images, labels = next(dataiter)\n",
    "# 显示图片\n",
    "imshow(torchvision.utils.make_grid(images))\n",
    "# 打印标签\n",
    "print(' '.join('%5s' % classes[labels[j]] for j in range(4)))"
   ]
  },
  {
   "cell_type": "markdown",
   "id": "de2b13ba-caa7-4c64-a555-81cada2d7eb8",
   "metadata": {},
   "source": [
    "运行上面的单元格，应该可以看到四个图像，以及每个图像的正确标签。"
   ]
  },
  {
   "cell_type": "markdown",
   "id": "2578e029-7a65-4b6a-ade9-89cb803f5954",
   "metadata": {},
   "source": [
    "## 训练你的PyTorch模型\n",
    "\n",
    "让我们把所有的片段整合在一起，训练一个模型："
   ]
  },
  {
   "cell_type": "code",
   "execution_count": 40,
   "id": "b146ef8f-c4ef-4875-b9c8-5f48faae34a4",
   "metadata": {
    "tags": []
   },
   "outputs": [],
   "source": [
    "import torch\n",
    "import torch.nn as nn\n",
    "import torch.nn.functional as F\n",
    "import torch.optim as optim\n",
    "\n",
    "import torchvision\n",
    "import torchvision.transforms as transforms\n",
    "\n",
    "import matplotlib\n",
    "import matplotlib.pyplot as plt\n",
    "import numpy as np"
   ]
  },
  {
   "cell_type": "markdown",
   "id": "b3165169-dfd9-47d7-b26b-67a8a22a8ac1",
   "metadata": {},
   "source": [
    "首先，我们需要训练和测试数据集。如果你还没有，运行下面的单元格以确保数据集被下载。(这可能需要一些时间）。"
   ]
  },
  {
   "cell_type": "code",
   "execution_count": 36,
   "id": "6daaf087-c209-4e6f-8b45-102f0caf7d94",
   "metadata": {
    "tags": []
   },
   "outputs": [
    {
     "name": "stdout",
     "output_type": "stream",
     "text": [
      "Files already downloaded and verified\n",
      "Files already downloaded and verified\n"
     ]
    }
   ],
   "source": [
    "transform = transforms.Compose(\n",
    "    [transforms.ToTensor(),\n",
    "     transforms.Normalize((0.5, 0.5, 0.5), (0.5, 0.5, 0.5))])\n",
    "\n",
    "trainset = torchvision.datasets.CIFAR10(\n",
    "    root='./data', \n",
    "    train=True, \n",
    "    download=True,\n",
    "    transform=transform)\n",
    "trainloader = torch.utils.data.DataLoader(\n",
    "    trainset, \n",
    "    batch_size=4,\n",
    "    shuffle=True,\n",
    "    num_workers=2)\n",
    "testset = torchvision.datasets.CIFAR10(\n",
    "    root='./data',\n",
    "    train=False,\n",
    "    download=True,\n",
    "    transform=transform)\n",
    "testloader = torch.utils.data.DataLoader(\n",
    "    testset,\n",
    "    batch_size=4,\n",
    "    shuffle=False,\n",
    "    num_workers=2)\n",
    "\n",
    "classes = ('plane', 'car', 'bird', 'cat', 'deer', 'dog', 'frog', 'horse', 'ship', 'truck')"
   ]
  },
  {
   "cell_type": "markdown",
   "id": "e0731834-fd00-4afa-840f-62b56727c30c",
   "metadata": {},
   "source": [
    "我们运行并检查 `DataLoader` 的输出："
   ]
  },
  {
   "cell_type": "code",
   "execution_count": 37,
   "id": "4b549cb2-3fba-476f-875a-e72ccc9461a8",
   "metadata": {
    "tags": []
   },
   "outputs": [
    {
     "name": "stdout",
     "output_type": "stream",
     "text": [
      "  cat  bird   car   cat\n"
     ]
    },
    {
     "data": {
      "image/png": "[encoded data removed]",
      "text/plain": [
       "<Figure size 432x288 with 1 Axes>"
      ]
     },
     "metadata": {
      "needs_background": "light"
     },
     "output_type": "display_data"
    }
   ],
   "source": [
    "import matplotlib.pyplot as plt\n",
    "import numpy as np\n",
    "\n",
    "# 用于显示图像的函数\n",
    "\n",
    "\n",
    "def imshow(img):\n",
    "    img = img / 2 + 0.5 \n",
    "    npimg = img.numpy()\n",
    "    plt.imshow(np.transpose(npimg, (1, 2, 0)))\n",
    "    \n",
    "dataiter = iter(trainloader)\n",
    "images, labels = next(dataiter)\n",
    "\n",
    "imshow(torchvision.utils.make_grid(images))\n",
    "print(' '.join('%5s' % classes[labels[j]] for j in range(4)))"
   ]
  },
  {
   "cell_type": "markdown",
   "id": "f3e6e9bb-9db0-4213-a632-6868fe02143a",
   "metadata": {},
   "source": [
    "这就是我们要训练的模型。如果它看起来很熟悉，那是因为它是LeNet的一个变种,适用于三通道图像。"
   ]
  },
  {
   "cell_type": "code",
   "execution_count": 47,
   "id": "7753c401-0b37-4254-a0c4-3e46ad201ad0",
   "metadata": {
    "tags": []
   },
   "outputs": [],
   "source": [
    "class Net(nn.Module):\n",
    "    def __init__(self):\n",
    "        super(Net, self).__init__()\n",
    "        self.conv1 = nn.Conv2d(3, 6, 5)\n",
    "        self.pool = nn.MaxPool2d(2, 2)\n",
    "        self.conv2 = nn.Conv2d(6, 16, 5)\n",
    "        self.fc1 = nn.Linear(16 * 5 * 5, 120)\n",
    "        self.fc2 = nn.Linear(120, 84)\n",
    "        self.fc3 = nn.Linear(84, 10)\n",
    "        \n",
    "    def forward(self, x):\n",
    "        x = self.pool(F.relu(self.conv1(x)))\n",
    "        x = self.pool(F.relu(self.conv2(x)))\n",
    "        x = x.view(-1, 16 * 5 * 5)\n",
    "        x = F.relu(self.fc1(x))\n",
    "        x = F.relu(self.fc2(x))\n",
    "        x = self.fc3(x)\n",
    "        return x\n",
    "    \n",
    "net = Net()"
   ]
  },
  {
   "cell_type": "markdown",
   "id": "b063c75d-e4bf-4aba-bba2-81dd4115a3c2",
   "metadata": {},
   "source": [
    "最后我们还需要一个损失函数和一个优化器："
   ]
  },
  {
   "cell_type": "code",
   "execution_count": 48,
   "id": "20a0db13-277a-4f07-8568-623b903574a5",
   "metadata": {
    "tags": []
   },
   "outputs": [],
   "source": [
    "criterion = nn.CrossEntropyLoss() # 交叉熵损失函数\n",
    "optimizer = optim.SGD(net.parameters(), lr = 0.001, momentum=0.9)"
   ]
  },
  {
   "cell_type": "markdown",
   "id": "d0cd61a3-d19a-4be0-a2ea-64d92ad1c649",
   "metadata": {},
   "source": [
    "损失函数，正如本视频前面所讨论的，用来衡量模型的预测离我们的理想输出有多远。交叉熵损失是像我们这样的分类模型的一个典型损失函数。\n",
    "\n",
    "**优化器**用于驱动学习。在这里，我们创建了一个优化器，实现了随机梯度下降，这是一种更直接的优化算法。除了算法的参数，如学习率（**lr**）和动量（**momentum**），我们还传入 `net.parameters()` ，它是模型中所有学习权重的集合--这就是优化器所调整的。\n",
    "\n",
    "最后，所有这些都被集合到训练循环中。运行这个单元，它可能需要几分钟的时间来执行："
   ]
  },
  {
   "cell_type": "code",
   "execution_count": 49,
   "id": "e9a774c4-defb-4cf6-a398-5db65e43cce8",
   "metadata": {
    "tags": []
   },
   "outputs": [
    {
     "name": "stdout",
     "output_type": "stream",
     "text": [
      "[1,  2000] loss: 2.189\n",
      "[1,  4000] loss: 1.840\n",
      "[1,  6000] loss: 1.659\n",
      "[1,  8000] loss: 1.568\n",
      "[1, 10000] loss: 1.497\n",
      "[1, 12000] loss: 1.451\n",
      "[2,  2000] loss: 1.369\n",
      "[2,  4000] loss: 1.360\n",
      "[2,  6000] loss: 1.322\n",
      "[2,  8000] loss: 1.323\n",
      "[2, 10000] loss: 1.301\n",
      "[2, 12000] loss: 1.274\n",
      "Finished Training\n"
     ]
    }
   ],
   "source": [
    "for epoch in range(2): # 循环训练数据集多次\n",
    "    running_loss = 0.0\n",
    "    for i, data in enumerate(trainloader, 0):\n",
    "        # 获取输入\n",
    "        inputs, labels = data\n",
    "        \n",
    "        # 将参数梯度置0\n",
    "        optimizer.zero_grad()\n",
    "        \n",
    "        # 前向传播 + 反向传播 + 优化\n",
    "        outputs = net(inputs)\n",
    "        loss = criterion(outputs, labels)\n",
    "        loss.backward()\n",
    "        optimizer.step()\n",
    "        \n",
    "        # 打印数据\n",
    "        running_loss += loss.item()\n",
    "        if i % 2000 == 1999: # 每2000个mini-batches打印一次\n",
    "            print('[%d, %5d] loss: %.3f' % (epoch + 1, i + 1, running_loss / 2000))\n",
    "            running_loss = 0.0\n",
    "print('Finished Training')"
   ]
  },
  {
   "cell_type": "markdown",
   "id": "ad54adc5-104c-4336-abca-8c2b7f622ba4",
   "metadata": {},
   "source": [
    "在这里，我们只循环了**2个训练周期**（第1行）--即对训练数据集传递两次。每一次都有一个内循环，对**训练数据进行迭代**（第4行），提供成批的转换后的输入图像和它们的正确标签。\n",
    "\n",
    "将**梯度归零**（第9行）是一个重要步骤。梯度是在一个批次中积累的；如果我们不为每一个批次重置梯度，它们将不断积累，这将提供错误的梯度值，使学习无法进行。\n",
    "\n",
    "在第12行，我们**要求模型对这个批次进行预测**。在接下来的第13行，我们计算损失-- `输出`（模型预测）和 `标签`（正确输出）之间的差异。\n",
    "\n",
    "在第14行，我们进行 `backward()传递` ，并计算梯度，以指导学习。\n",
    "\n",
    "在第15行，优化器执行了一个学习步骤--它使用来自 `backward()` 调用的梯度，将学习权重向它认为会减少损失的方向推进。\n",
    "\n",
    "循环的其余部分会对世代数、已完成的训练实例的数量以及训练循环中得到的损失做一些简单的输出。\n",
    "\n",
    "当你运行上面的单元时，你应该看到这样的东西："
   ]
  },
  {
   "cell_type": "markdown",
   "id": "4261318b-e197-4624-b9a4-7b8ba3f417c8",
   "metadata": {
    "tags": []
   },
   "source": [
    "[1,  2000] loss: 2.189  \n",
    "[1,  4000] loss: 1.840  \n",
    "[1,  6000] loss: 1.659  \n",
    "[1,  8000] loss: 1.568  \n",
    "[1, 10000] loss: 1.497  \n",
    "[1, 12000] loss: 1.451  \n",
    "[2,  2000] loss: 1.369  \n",
    "[2,  4000] loss: 1.360  \n",
    "[2,  6000] loss: 1.322  \n",
    "[2,  8000] loss: 1.323  \n",
    "[2, 10000] loss: 1.301  \n",
    "[2, 12000] loss: 1.274   \n",
    "Finished Training"
   ]
  },
  {
   "cell_type": "markdown",
   "id": "0453edd3-42f7-48f8-aac4-b8f2fd2002e2",
   "metadata": {},
   "source": [
    "我们可以注意到，损失是单调下降的，表明我们的模型在训练数据集上的性能在持续提高。\n",
    "\n",
    "作为最后一步，我们应该检查模型是否真的在进行一般性学习，而不是简单地 \"记忆 \"数据集。这被称为**过拟合（overfitting）**，通常表明数据集太小（没有足够的例子进行一般性学习），或者模型的学习参数超过了它对数据集正确建模的需要。\n",
    "\n",
    "这就是数据集被分成训练和测试集的原因--为了测试模型的通用性，我们要求它对没有训练过的数据进行预测："
   ]
  },
  {
   "cell_type": "code",
   "execution_count": 57,
   "id": "6041d59d-aa77-4db1-aea9-e38ecb2648d0",
   "metadata": {
    "tags": []
   },
   "outputs": [
    {
     "name": "stdout",
     "output_type": "stream",
     "text": [
      "网络在10000张测试图片的准确率：54 %\n"
     ]
    }
   ],
   "source": [
    "correct = 0\n",
    "total = 0\n",
    "with torch.no_grad():\n",
    "    for data in testloader:\n",
    "        images, labels = data\n",
    "        outputs = net(images)\n",
    "        _, predicted = torch.max(outputs.data, 1)\n",
    "        total += labels.size(0)\n",
    "        correct += (predicted == labels).sum().item()\n",
    "print('网络在10000张测试图片的准确率：%d %%' % (100 * correct / total))"
   ]
  },
  {
   "cell_type": "markdown",
   "id": "1c534753-1cdf-42d1-856c-1b1cf967c921",
   "metadata": {
    "tags": []
   },
   "source": [
    "如果你一直跟着教程，你可以看到模型大概有50%的准确率。这是并不算最先进的，但它远远好于我们从随机输出中期望的10%的准确性。这表明模型中确实发生了一些一般性的学习。"
   ]
  },
  {
   "cell_type": "code",
   "execution_count": null,
   "id": "dc583a75-9a5f-4776-afb4-ce68cce35883",
   "metadata": {},
   "outputs": [],
   "source": []
  }
 ],
 "metadata": {
  "kernelspec": {
   "display_name": "jpth",
   "language": "python",
   "name": "jpth"
  },
  "language_info": {
   "codemirror_mode": {
    "name": "ipython",
    "version": 3
   },
   "file_extension": ".py",
   "mimetype": "text/x-python",
   "name": "python",
   "nbconvert_exporter": "python",
   "pygments_lexer": "ipython3",
   "version": "3.7.12"
  }
 },
 "nbformat": 4,
 "nbformat_minor": 5
}
