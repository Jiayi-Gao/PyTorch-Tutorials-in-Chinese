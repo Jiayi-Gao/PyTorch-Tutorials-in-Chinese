{
 "cells": [
  {
   "cell_type": "markdown",
   "id": "c284c86a-306e-403d-818c-85f98b93f57d",
   "metadata": {},
   "source": [
    "# TRAINING WITH PYTORCH\n",
    "\n",
    "本节课可以在[youtube](https://www.youtube.com/watch?v=jF43_wj_DCQ)上观看。"
   ]
  },
  {
   "cell_type": "markdown",
   "id": "40dace64-7b4d-4c1e-a5fd-c15ef71caaa0",
   "metadata": {},
   "source": [
    "# Introduction\n",
    "\n",
    "\n",
    "在过去的视频中，我们已经讨论并演示了：\n",
    "\n",
    "\n",
    "- 用Torch.nn模块的神经网络层和功能建立模型\n",
    "\n",
    "- 自动梯度计算的机制，这是基于梯度的模型训练的核心。\n",
    "\n",
    "- 使用TensorBoard来可视化训练进度和其他活动\n",
    "\n",
    "\n",
    "在这个视频中，我们将为你的库存添加一些新的工具：\n",
    "\n",
    "\n",
    "- 我们将熟悉数据集和数据加载器的抽象，以及它们如何在训练循环中缓解向模型输入数据的过程。\n",
    "\n",
    "- 我们将讨论具体的损失函数以及何时使用它们\n",
    "\n",
    "- 我们将研究PyTorch优化器，它实现了根据损失函数的结果来调整模型权重的算法。\n",
    "\n",
    "\n",
    "最后，我们将把所有这些放在一起，看看一个完整的PyTorch训练循环的运行情况。"
   ]
  },
  {
   "cell_type": "markdown",
   "id": "bff420cd-be0c-47ea-86c1-83b85286d008",
   "metadata": {},
   "source": [
    "## Dataset and DataLoader\n",
    "\n",
    "`Dataset` 和 `DataLoader` 类封装了从存储中提取数据并将其分批给训练循环的过程。\n",
    "\n",
    "`Dataset` 负责访问和处理单个数据的实例。\n",
    "\n",
    "`DataLoader` 从 `Dataset` 中提取数据实例（可以是自动的，也可以是你定义的采样器），分批收集这些数据，并返回给你的训练循环使用。`DataLoader` 适用于所有类型的数据集，无论它们包含什么类型的数据。\n",
    "\n",
    "在本教程中，我们将使用TorchVision提供的Fashion-MNIST数据集。我们使用`torchvision.transforms.Normalize()` 对图像内容的分布进行零中心和归一化，并下载训练和验证数据。"
   ]
  },
  {
   "cell_type": "code",
   "execution_count": 10,
   "id": "55015ce7-9ba2-47b2-a4ef-6188c690ffe5",
   "metadata": {
    "tags": []
   },
   "outputs": [
    {
     "name": "stdout",
     "output_type": "stream",
     "text": [
      "Training set has 60000 instances\n",
      "Validation set has 10000 instances\n"
     ]
    }
   ],
   "source": [
    "import torch\n",
    "import torchvision\n",
    "import torchvision.transforms as transforms\n",
    "\n",
    "# PyTorch TensorBoard 支持\n",
    "from torch.utils.tensorboard import SummaryWriter\n",
    "from datetime import datetime\n",
    "\n",
    "\n",
    "transform = transforms.Compose(\n",
    "    [transforms.ToTensor(),\n",
    "    transforms.Normalize((0.5,), (0.5,))])\n",
    "\n",
    "# 创建训练和验证数据集，如果需要的话就下载\n",
    "training_set = torchvision.datasets.FashionMNIST('./data', train=True, transform=transform, download=True)\n",
    "validation_set = torchvision.datasets.FashionMNIST('./data', train=False, transform=transform, download=True)\n",
    "\n",
    "# 为我们的数据集创建数据加载器；为打乱训练数据，而不打乱验证顺序\n",
    "training_loader = torch.utils.data.DataLoader(training_set, batch_size=4, shuffle=True)\n",
    "validation_loader = torch.utils.data.DataLoader(validation_set, batch_size=4, shuffle=False)\n",
    "\n",
    "# 类标签\n",
    "classes = ('T-shirt/top', 'Trouser', 'Pullover', 'Dress', 'Coat',\n",
    "        'Sandal', 'Shirt', 'Sneaker', 'Bag', 'Ankle Boot')\n",
    "\n",
    "# 报告分割大小\n",
    "print('Training set has {} instances'.format(len(training_set)))\n",
    "print('Validation set has {} instances'.format(len(validation_set)))"
   ]
  },
  {
   "cell_type": "markdown",
   "id": "bfd20128-85a2-4234-8002-c81be11df412",
   "metadata": {},
   "source": [
    "像往常一样，让我们把数据可视化，作为一种理智的检查："
   ]
  },
  {
   "cell_type": "code",
   "execution_count": 2,
   "id": "aa12b7c2-6bc7-462e-baaa-f20c5dc9cbea",
   "metadata": {
    "tags": []
   },
   "outputs": [
    {
     "name": "stdout",
     "output_type": "stream",
     "text": [
      "Sandal  Coat  Dress  Bag\n"
     ]
    },
    {
     "data": {
      "image/png": "[encoded data removed]",
      "text/plain": [
       "<Figure size 432x288 with 1 Axes>"
      ]
     },
     "metadata": {
      "needs_background": "light"
     },
     "output_type": "display_data"
    }
   ],
   "source": [
    "import matplotlib.pyplot as plt\n",
    "import numpy as np\n",
    "\n",
    "# 内置图片展示辅助函数\n",
    "def matplotlib_imshow(img, one_channel=False):\n",
    "    if one_channel:\n",
    "        img = img.mean(dim=0)\n",
    "    img = img / 2 + 0.5     # 未归一化\n",
    "    npimg = img.numpy()\n",
    "    if one_channel:\n",
    "        plt.imshow(npimg, cmap=\"Greys\")\n",
    "    else:\n",
    "        plt.imshow(np.transpose(npimg, (1, 2, 0)))\n",
    "\n",
    "dataiter = iter(training_loader)\n",
    "images, labels = next(dataiter)\n",
    "\n",
    "# 从图片中创建一个网格，并展示它们\n",
    "img_grid = torchvision.utils.make_grid(images)\n",
    "matplotlib_imshow(img_grid, one_channel=True)\n",
    "print('  '.join(classes[labels[j]] for j in range(4)))"
   ]
  },
  {
   "cell_type": "markdown",
   "id": "32c02805-d7da-4cde-8c1e-64a5b2feb242",
   "metadata": {},
   "source": [
    "## The Model\n",
    "\n",
    "我们在这个例子中使用的模型是LeNet-5的一个变种--如果你看过这个系列的前几个视频，应该对它很熟悉。"
   ]
  },
  {
   "cell_type": "code",
   "execution_count": 3,
   "id": "7815d122-5ce7-4a94-8f2f-e106559977a3",
   "metadata": {
    "tags": []
   },
   "outputs": [],
   "source": [
    "import torch.nn as nn\n",
    "import torch.nn.functional as F\n",
    "\n",
    "# PyTorch 模型继承自 torch.nn.Module\n",
    "class GarmentClassifier(nn.Module):\n",
    "    def __init__(self):\n",
    "        super(GarmentClassifier, self).__init__()\n",
    "        self.conv1 = nn.Conv2d(1, 6, 5)\n",
    "        self.pool = nn.MaxPool2d(2, 2)\n",
    "        self.conv2 = nn.Conv2d(6, 16, 5)\n",
    "        self.fc1 = nn.Linear(16 * 4 * 4, 120)\n",
    "        self.fc2 = nn.Linear(120, 84)\n",
    "        self.fc3 = nn.Linear(84, 10)\n",
    "\n",
    "    def forward(self, x):\n",
    "        x = self.pool(F.relu(self.conv1(x)))\n",
    "        x = self.pool(F.relu(self.conv2(x)))\n",
    "        x = x.view(-1, 16 * 4 * 4)\n",
    "        x = F.relu(self.fc1(x))\n",
    "        x = F.relu(self.fc2(x))\n",
    "        x = self.fc3(x)\n",
    "        return x\n",
    "\n",
    "\n",
    "model = GarmentClassifier()"
   ]
  },
  {
   "cell_type": "markdown",
   "id": "64e8fb2f-c3a4-41d4-9600-3a4de080b1ea",
   "metadata": {},
   "source": [
    "## Loss Function\n",
    "\n",
    "在这个例子中，我们将使用一个交叉熵损失。为了演示，我们将创建一批假的输出和标签值，通过损失函数运行它们，并检查结果。"
   ]
  },
  {
   "cell_type": "code",
   "execution_count": 4,
   "id": "bb4e0796-019d-4985-9431-d2640620d9f0",
   "metadata": {
    "tags": []
   },
   "outputs": [
    {
     "name": "stdout",
     "output_type": "stream",
     "text": [
      "tensor([[0.7059, 0.4188, 0.6599, 0.2883, 0.9462, 0.4136, 0.7739, 0.4812, 0.9426,\n",
      "         0.8120],\n",
      "        [0.7798, 0.8640, 0.5649, 0.2133, 0.5199, 0.0978, 0.9793, 0.7205, 0.0022,\n",
      "         0.1060],\n",
      "        [0.2465, 0.7552, 0.9288, 0.7828, 0.2556, 0.5642, 0.4450, 0.7964, 0.2473,\n",
      "         0.9136],\n",
      "        [0.6298, 0.0756, 0.5820, 0.6225, 0.1348, 0.8898, 0.7768, 0.7633, 0.7283,\n",
      "         0.0850]])\n",
      "tensor([1, 5, 3, 7])\n",
      "这一批次的总损失： 2.3882174491882324\n"
     ]
    }
   ],
   "source": [
    "loss_fn = torch.nn.CrossEntropyLoss()\n",
    "\n",
    "# NB: 损失函数希望数据是分批的，所以我们要创建4个批次的数据。\n",
    "# 代表模型对给定输入的10个类别中每个类别的置信度\n",
    "\n",
    "dummy_outputs = torch.rand(4, 10)\n",
    "# 表示10个测试中的正确类别\n",
    "dummy_labels = torch.tensor([1, 5, 3, 7])\n",
    "\n",
    "print(dummy_outputs)\n",
    "print(dummy_labels)\n",
    "\n",
    "loss = loss_fn(dummy_outputs, dummy_labels)\n",
    "print('这一批次的总损失： {}'.format(loss.item()))"
   ]
  },
  {
   "cell_type": "markdown",
   "id": "ac498bca-3e4d-4e9f-8252-7d5f1f9f6f00",
   "metadata": {},
   "source": [
    "## Optimizer\n",
    "\n",
    "在这个例子中，我们将使用简单的随机梯度下降法和动量。\n",
    "\n",
    "尝试这种优化方案的一些变化可能会有所启发：\n",
    "\n",
    "- 学习率决定了优化器的步骤的大小。就准确性和收敛时间而言，不同的学习率会对你的训练结果产生什么影响？\n",
    "\n",
    "- 动量使优化器在多个步骤中向最强梯度的方向推进。改变这个值对你的结果有什么作用？\n",
    "\n",
    "- 尝试一些不同的优化算法，如平均SGD、Adagrad或Adam。你的结果有什么不同？"
   ]
  },
  {
   "cell_type": "code",
   "execution_count": 5,
   "id": "515f6e0b-0bc3-47df-8e22-435583048cc1",
   "metadata": {
    "tags": []
   },
   "outputs": [],
   "source": [
    "# 优化器在 torch.optim 包中被指定\n",
    "optimizer = torch.optim.SGD(model.parameters(), lr=0.001, momentum=0.9)"
   ]
  },
  {
   "cell_type": "markdown",
   "id": "caaa5fbc-6166-4ec1-b2e2-f7fc01be4b96",
   "metadata": {},
   "source": [
    "## The Training Loop\n",
    "\n",
    "下面，我们有一个函数，执行一个训练世代。它从DataLoader中列举数据，并在循环的每一次传递中做以下工作：\n",
    "\n",
    "- 从DataLoader中获取一批训练数据\n",
    "\n",
    "- 将优化器的梯度清零\n",
    "\n",
    "- 执行推理--也就是说，从模型中获得对一个输入批次的预测结果\n",
    "\n",
    "- 计算该组预测的损失与数据集上的标签之间的关系\n",
    "\n",
    "- 计算学习权重的后向梯度\n",
    "\n",
    "- 告诉优化器执行一个学习步骤--即根据我们选择的优化算法，基于该批次的观察梯度调整模型的学习权重\n",
    "\n",
    "- 它报告每1000个批次的损失。\n",
    "\n",
    "- 最后，它报告过去1000批的每批平均损失，以便与验证运行进行比较。"
   ]
  },
  {
   "cell_type": "code",
   "execution_count": 6,
   "id": "b9175724-56f1-4039-b178-cfc5375fd4d3",
   "metadata": {},
   "outputs": [],
   "source": [
    "def train_one_epoch(epoch_index, tb_writer):\n",
    "    running_loss = 0.\n",
    "    last_loss = 0.\n",
    "    \n",
    "    # 这里，我们使用enumerate(training_loader)而不是\n",
    "    # iter(training_loader)，这样我们就可以跟踪批次的\n",
    "    # 索引并做一些周期内的报告\n",
    "    for i, data in enumerate(training_loader):\n",
    "        # 每个数据实例都是 输入 + 标签对\n",
    "        inputs, labels = data\n",
    "        \n",
    "        # 对每个批次归零梯度\n",
    "        optimizer.zero_grad()\n",
    "        \n",
    "        # 对每个批次做预测\n",
    "        outputs = model(inputs)\n",
    "        \n",
    "        # 计算损失和它的梯度\n",
    "        loss = loss_fn(outputs, labels)\n",
    "        loss.backward()\n",
    "        \n",
    "        # 调整学习权重\n",
    "        optimizer.step()\n",
    "        \n",
    "        # 获取数据和报告\n",
    "        running_loss += loss.item()\n",
    "        if i % 1000 == 999:\n",
    "            last_loss = running_loss / 1000 # 每一批次的损失\n",
    "            print(' batch {} loss: {}'.format(i + 1, last_loss))\n",
    "            tb_x = epoch_index * len(training_loader) + i + 1\n",
    "            tb_writer.add_scalar('Loss/train', last_loss, tb_x)\n",
    "            running_loss = 0.\n",
    "    return last_loss"
   ]
  },
  {
   "cell_type": "markdown",
   "id": "b9678511-4dba-41af-adc9-ea28c4036328",
   "metadata": {},
   "source": [
    "## Per-Epoch Activity\n",
    "\n",
    "有几件事我们想在每个epoch中做一次：\n",
    "\n",
    "- 通过在一组未用于训练的数据上检查我们的相对损失来进行验证，并报告。\n",
    "\n",
    "- 保存一份模型的副本\n",
    "\n",
    "这里，我们将在TensorBoard中做报告。这将需要在命令行中启动TensorBoard，并在另一个浏览器标签中打开它。"
   ]
  },
  {
   "cell_type": "code",
   "execution_count": 7,
   "id": "a74ffe24-3324-43dd-ba70-53a098d32d0d",
   "metadata": {
    "tags": []
   },
   "outputs": [
    {
     "name": "stdout",
     "output_type": "stream",
     "text": [
      "EPOCH 1:\n",
      " batch 1000 loss: 1.7671131486296654\n",
      " batch 2000 loss: 0.8176213878579438\n",
      " batch 3000 loss: 0.7075149689111858\n",
      " batch 4000 loss: 0.6288529333092738\n",
      " batch 5000 loss: 0.6014147849001457\n",
      " batch 6000 loss: 0.5568883298321161\n",
      " batch 7000 loss: 0.541394885364105\n",
      " batch 8000 loss: 0.5178114678320708\n",
      " batch 9000 loss: 0.48116248699469727\n",
      " batch 10000 loss: 0.47837139757868136\n",
      " batch 11000 loss: 0.45526302706933347\n",
      " batch 12000 loss: 0.45765351739886684\n",
      " batch 13000 loss: 0.45255698991101234\n",
      " batch 14000 loss: 0.41842984397916005\n",
      " batch 15000 loss: 0.41664498930098487\n",
      "LOSS train 0.41664498930098487 valid 0.4210592806339264\n",
      "EPOCH 2:\n",
      " batch 1000 loss: 0.3999655438676709\n",
      " batch 2000 loss: 0.40013408021695795\n",
      " batch 3000 loss: 0.3905412172062206\n",
      " batch 4000 loss: 0.38611169390485156\n",
      " batch 5000 loss: 0.37177809296626946\n",
      " batch 6000 loss: 0.35716604327468665\n",
      " batch 7000 loss: 0.38948271148325875\n",
      " batch 8000 loss: 0.34912758878737804\n",
      " batch 9000 loss: 0.377445055554912\n",
      " batch 10000 loss: 0.366474048804499\n",
      " batch 11000 loss: 0.35756782536799436\n",
      " batch 12000 loss: 0.3356377915533958\n",
      " batch 13000 loss: 0.3528610573123442\n",
      " batch 14000 loss: 0.36147501923912206\n",
      " batch 15000 loss: 0.3476871458173846\n",
      "LOSS train 0.3476871458173846 valid 0.3566286265850067\n",
      "EPOCH 3:\n",
      " batch 1000 loss: 0.33804267061125576\n",
      " batch 2000 loss: 0.3180467532765906\n",
      " batch 3000 loss: 0.3218018263901322\n",
      " batch 4000 loss: 0.3218571958741886\n",
      " batch 5000 loss: 0.2936644737434399\n",
      " batch 6000 loss: 0.3388277232592518\n",
      " batch 7000 loss: 0.3240387831661401\n",
      " batch 8000 loss: 0.32800145069020803\n",
      " batch 9000 loss: 0.33614905146040835\n",
      " batch 10000 loss: 0.34610942164011066\n",
      " batch 11000 loss: 0.3236526131280698\n",
      " batch 12000 loss: 0.30001407833487065\n",
      " batch 13000 loss: 0.3249126056809328\n",
      " batch 14000 loss: 0.3173945886497531\n",
      " batch 15000 loss: 0.3170013417506416\n",
      "LOSS train 0.3170013417506416 valid 0.3471575081348419\n",
      "EPOCH 4:\n",
      " batch 1000 loss: 0.30756144192371904\n",
      " batch 2000 loss: 0.2858356928580761\n",
      " batch 3000 loss: 0.3081270083281997\n",
      " batch 4000 loss: 0.30317016014291587\n",
      " batch 5000 loss: 0.2939422923827715\n",
      " batch 6000 loss: 0.2930845466560277\n",
      " batch 7000 loss: 0.2879463885448799\n",
      " batch 8000 loss: 0.29127737894608435\n",
      " batch 9000 loss: 0.3087788326700247\n",
      " batch 10000 loss: 0.30127024671448455\n",
      " batch 11000 loss: 0.3053670593134666\n",
      " batch 12000 loss: 0.30605192197387804\n",
      " batch 13000 loss: 0.2793420110622028\n",
      " batch 14000 loss: 0.31661217338444114\n",
      " batch 15000 loss: 0.2981221423362076\n",
      "LOSS train 0.2981221423362076 valid 0.3204502761363983\n",
      "EPOCH 5:\n",
      " batch 1000 loss: 0.2896228833462228\n",
      " batch 2000 loss: 0.2754783703835128\n",
      " batch 3000 loss: 0.26996071246075737\n",
      " batch 4000 loss: 0.2657322660928508\n",
      " batch 5000 loss: 0.2720126981683497\n",
      " batch 6000 loss: 0.2662308682689636\n",
      " batch 7000 loss: 0.27935173181852224\n",
      " batch 8000 loss: 0.2927065179446627\n",
      " batch 9000 loss: 0.2750994025189066\n",
      " batch 10000 loss: 0.2718408801498331\n",
      " batch 11000 loss: 0.3035779562062239\n",
      " batch 12000 loss: 0.2906280738709029\n",
      " batch 13000 loss: 0.2820930756871203\n",
      " batch 14000 loss: 0.28016362330923766\n",
      " batch 15000 loss: 0.2956064643468344\n",
      "LOSS train 0.2956064643468344 valid 0.3259507417678833\n"
     ]
    }
   ],
   "source": [
    "# 在一个单独的单元中初始化，所以我们可以很容易地在同一个运行中添加更多的epochs。\n",
    "timestamp = datetime.now().strftime('%Y%m%d_%H%M%S')\n",
    "writer = SummaryWriter('runs/fashion_trainer_{}'.format(timestamp))\n",
    "epoch_number = 0\n",
    "\n",
    "EPOCHS = 5\n",
    "\n",
    "best_vloss = 1_000_000.\n",
    "\n",
    "for epoch in range(EPOCHS):\n",
    "    print('EPOCH {}:'.format(epoch_number + 1))\n",
    "    \n",
    "    # 确保梯度跟踪处于开启状态，并对数据进行一次传递\n",
    "    model.train(True)\n",
    "    avg_loss = train_one_epoch(epoch_number, writer)\n",
    "    \n",
    "    running_vloss = 0.0\n",
    "    # 将模型设置为评估模式，禁用丢弃并且对批归一化使用数据统计\n",
    "    model.eval()\n",
    "    \n",
    "    # 禁用梯度计算 并且减少内存消耗\n",
    "    with torch.no_grad():\n",
    "        for i, vdata in enumerate(validation_loader):\n",
    "            vinputs, vlabels = vdata\n",
    "            voutputs = model(vinputs)\n",
    "            vloss = loss_fn(voutputs, vlabels)\n",
    "            running_vloss += vloss\n",
    "    \n",
    "    avg_vloss = running_vloss / (i + 1)\n",
    "    print('LOSS train {} valid {}'.format(avg_loss, avg_vloss))\n",
    "    \n",
    "    # 记录每个批次的平均运行损失 \n",
    "    # 训练和验证都是如此\n",
    "    writer.add_scalars('Training vs. Validation Loss', \n",
    "                       {'Training' : avg_loss, 'Validation' : avg_vloss},\n",
    "                       epoch_number + 1)\n",
    "    writer.flush()\n",
    "    \n",
    "    # 跟踪最好的性能，并且保存模型的状态字典\n",
    "    if avg_vloss < best_vloss:\n",
    "        best_vloss = avg_loss\n",
    "        model_path = 'model_{}_{}'.format(timestamp, epoch_number)\n",
    "        torch.save(model.state_dict(), model_path)\n",
    "    epoch_number += 1"
   ]
  },
  {
   "cell_type": "markdown",
   "id": "b9bbb1db-9586-48cd-bab0-7a6c80788e61",
   "metadata": {},
   "source": [
    "加载模型的保存版本："
   ]
  },
  {
   "cell_type": "code",
   "execution_count": 9,
   "id": "d825a908-f21f-4395-a1c1-973f40da4700",
   "metadata": {
    "tags": []
   },
   "outputs": [
    {
     "data": {
      "text/plain": [
       "<All keys matched successfully>"
      ]
     },
     "execution_count": 9,
     "metadata": {},
     "output_type": "execute_result"
    }
   ],
   "source": [
    "saved_model = GarmentClassifier()\n",
    "saved_model.load_state_dict(torch.load(model_path))"
   ]
  },
  {
   "cell_type": "markdown",
   "id": "ec556f40-db37-461f-beb7-c57e71b086d1",
   "metadata": {},
   "source": [
    "一旦你加载了模型，它就可以用于你需要的任何用途，例如更多的训练、推理或分析。\n",
    "\n",
    "请注意，如果你的模型有影响模型结构的构造参数，你需要提供这些参数，并将模型配置成与它被保存时相同的状态。"
   ]
  },
  {
   "cell_type": "markdown",
   "id": "61ab1f0c-08b8-4e15-8c41-c4721c8c949a",
   "metadata": {},
   "source": [
    "## Other Resources\n",
    "\n",
    "- 在pytorch.org上的[数据工具](https://pytorch.org/docs/stable/data.html)的文档，包括Dasaved_modelDataLoader。\n",
    "\n",
    "- 关于在GPU训练中[使用夹层内存的说明](https://pytorch.org/docs/stable/notes/cuda.html#cuda-memory-pinning)\n",
    "\n",
    "- 关于[TorchVision](https://pytorch.org/vision/stable/datasets.html)、[TorchText](https://pytorch.org/text/stable/datasets.html)和[TorchAudio](https://pytorch.org/audio/stable/datasets.html)中可用的数据集的文档\n",
    "\n",
    "- 关于PyTorch中可用的[损失函数](https://pytorch.org/docs/stable/nn.html#loss-functions)的文档\n",
    "\n",
    "- 关于[torch.opt包](https://pytorch.org/docs/stable/optim.html)的文档，其中包括优化器和相关工具，如学习率调度\n",
    "\n",
    "- 关于[保存和加载模型的详细教程](https://pytorch.org/tutorials/beginner/saving_loading_models.html)\n",
    "\n",
    "- [pytorch.org的教程](https://pytorch.org/tutorials/)部分包含了关于各种训练任务的教程，包括不同领域的分类、生成式对抗网络、强化学习等。"
   ]
  },
  {
   "cell_type": "code",
   "execution_count": 15,
   "id": "cdf56632-fe30-48f3-9505-508a2a172b3f",
   "metadata": {},
   "outputs": [],
   "source": [
    "import torchvision\n",
    "import torch\n",
    "from tqdm import tqdm\n",
    "import time"
   ]
  },
  {
   "cell_type": "code",
   "execution_count": 16,
   "id": "b97c9b04-8139-4962-9777-bd613e4eee3e",
   "metadata": {
    "tags": []
   },
   "outputs": [
    {
     "name": "stderr",
     "output_type": "stream",
     "text": [
      "100%|██████████| 10/10 [01:40<00:00, 10.01s/it]\n"
     ]
    }
   ],
   "source": [
    "for i in tqdm(range(10)):\n",
    "    time.sleep(10)"
   ]
  },
  {
   "cell_type": "code",
   "execution_count": null,
   "id": "989fffca-843e-4ebe-b481-6d1ed2985d1b",
   "metadata": {},
   "outputs": [],
   "source": []
  }
 ],
 "metadata": {
  "kernelspec": {
   "display_name": "jpth",
   "language": "python",
   "name": "jpth"
  },
  "language_info": {
   "codemirror_mode": {
    "name": "ipython",
    "version": 3
   },
   "file_extension": ".py",
   "mimetype": "text/x-python",
   "name": "python",
   "nbconvert_exporter": "python",
   "pygments_lexer": "ipython3",
   "version": "3.7.12"
  }
 },
 "nbformat": 4,
 "nbformat_minor": 5
}
