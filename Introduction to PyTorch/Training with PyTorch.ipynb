{
 "cells": [
  {
   "cell_type": "markdown",
   "id": "c284c86a-306e-403d-818c-85f98b93f57d",
   "metadata": {},
   "source": [
    "# TRAINING WITH PYTORCH\n",
    "\n",
    "本节课可以在[youtube](https://www.youtube.com/watch?v=jF43_wj_DCQ)上观看。"
   ]
  },
  {
   "cell_type": "markdown",
   "id": "40dace64-7b4d-4c1e-a5fd-c15ef71caaa0",
   "metadata": {},
   "source": [
    "# Introduction\n",
    "\n",
    "\n",
    "在过去的视频中，我们已经讨论并演示了：\n",
    "\n",
    "\n",
    "- 用Torch.nn模块的神经网络层和功能建立模型\n",
    "\n",
    "- 自动梯度计算的机制，这是基于梯度的模型训练的核心。\n",
    "\n",
    "- 使用TensorBoard来可视化训练进度和其他活动\n",
    "\n",
    "\n",
    "在这个视频中，我们将为你的库存添加一些新的工具：\n",
    "\n",
    "\n",
    "- 我们将熟悉数据集和数据加载器的抽象，以及它们如何在训练循环中缓解向模型输入数据的过程。\n",
    "\n",
    "- 我们将讨论具体的损失函数以及何时使用它们\n",
    "\n",
    "- 我们将研究PyTorch优化器，它实现了根据损失函数的结果来调整模型权重的算法。\n",
    "\n",
    "\n",
    "最后，我们将把所有这些放在一起，看看一个完整的PyTorch训练循环的运行情况。"
   ]
  },
  {
   "cell_type": "markdown",
   "id": "bff420cd-be0c-47ea-86c1-83b85286d008",
   "metadata": {},
   "source": [
    "## Dataset and DataLoader\n",
    "\n",
    "`Dataset` 和 `DataLoader` 类封装了从存储中提取数据并将其分批给训练循环的过程。\n",
    "\n",
    "`Dataset` 负责访问和处理单个数据的实例。\n",
    "\n",
    "`DataLoader` 从 `Dataset` 中提取数据实例（可以是自动的，也可以是你定义的采样器），分批收集这些数据，并返回给你的训练循环使用。`DataLoader` 适用于所有类型的数据集，无论它们包含什么类型的数据。\n",
    "\n",
    "在本教程中，我们将使用TorchVision提供的Fashion-MNIST数据集。我们使用`torchvision.transforms.Normalize()` 对图像内容的分布进行零中心和归一化，并下载训练和验证数据。"
   ]
  },
  {
   "cell_type": "code",
   "execution_count": 2,
   "id": "55015ce7-9ba2-47b2-a4ef-6188c690ffe5",
   "metadata": {
    "tags": []
   },
   "outputs": [
    {
     "name": "stdout",
     "output_type": "stream",
     "text": [
      "Training set has 60000 instances\n",
      "Validation set has 10000 instances\n"
     ]
    }
   ],
   "source": [
    "import torch\n",
    "import torchvision\n",
    "import torchvision.transforms as transforms\n",
    "\n",
    "# PyTorch TensorBoard 支持\n",
    "from torch.utils.tensorboard import SummaryWriter\n",
    "from datetime import datetime\n",
    "\n",
    "\n",
    "transform = transforms.Compose(\n",
    "    [transforms.ToTensor(),\n",
    "    transforms.Normalize((0.5,), (0.5,))])\n",
    "\n",
    "# 创建训练和验证数据集，如果需要的话就下载\n",
    "training_set = torchvision.datasets.FashionMNIST('./data', train=True, transform=transform, download=True)\n",
    "validation_set = torchvision.datasets.FashionMNIST('./data', train=False, transform=transform, download=True)\n",
    "\n",
    "# 为我们的数据集创建数据加载器；为打乱训练数据，而不打乱验证顺序\n",
    "training_loader = torch.utils.data.DataLoader(training_set, batch_size=4, shuffle=True)\n",
    "validation_loader = torch.utils.data.DataLoader(validation_set, batch_size=4, shuffle=False)\n",
    "\n",
    "# 类标签\n",
    "classes = ('T-shirt/top', 'Trouser', 'Pullover', 'Dress', 'Coat',\n",
    "        'Sandal', 'Shirt', 'Sneaker', 'Bag', 'Ankle Boot')\n",
    "\n",
    "# 报告分割大小\n",
    "print('Training set has {} instances'.format(len(training_set)))\n",
    "print('Validation set has {} instances'.format(len(validation_set)))"
   ]
  },
  {
   "cell_type": "markdown",
   "id": "bfd20128-85a2-4234-8002-c81be11df412",
   "metadata": {},
   "source": [
    "像往常一样，让我们把数据可视化，作为一种理智的检查："
   ]
  },
  {
   "cell_type": "code",
   "execution_count": 4,
   "id": "aa12b7c2-6bc7-462e-baaa-f20c5dc9cbea",
   "metadata": {
    "tags": []
   },
   "outputs": [
    {
     "name": "stdout",
     "output_type": "stream",
     "text": [
      "T-shirt/top  Shirt  Sandal  Trouser\n"
     ]
    },
    {
     "data": {
      "image/png": "[encoded data removed]",
      "text/plain": [
       "<Figure size 432x288 with 1 Axes>"
      ]
     },
     "metadata": {
      "needs_background": "light"
     },
     "output_type": "display_data"
    }
   ],
   "source": [
    "import matplotlib.pyplot as plt\n",
    "import numpy as np\n",
    "\n",
    "# 内置图片展示辅助函数\n",
    "def matplotlib_imshow(img, one_channel=False):\n",
    "    if one_channel:\n",
    "        img = img.mean(dim=0)\n",
    "    img = img / 2 + 0.5     # 未归一化\n",
    "    npimg = img.numpy()\n",
    "    if one_channel:\n",
    "        plt.imshow(npimg, cmap=\"Greys\")\n",
    "    else:\n",
    "        plt.imshow(np.transpose(npimg, (1, 2, 0)))\n",
    "\n",
    "dataiter = iter(training_loader)\n",
    "images, labels = next(dataiter)\n",
    "\n",
    "# 从图片中创建一个网格，并展示它们\n",
    "img_grid = torchvision.utils.make_grid(images)\n",
    "matplotlib_imshow(img_grid, one_channel=True)\n",
    "print('  '.join(classes[labels[j]] for j in range(4)))"
   ]
  },
  {
   "cell_type": "markdown",
   "id": "32c02805-d7da-4cde-8c1e-64a5b2feb242",
   "metadata": {},
   "source": [
    "## The Model\n",
    "\n",
    "我们在这个例子中使用的模型是LeNet-5的一个变种--如果你看过这个系列的前几个视频，应该对它很熟悉。"
   ]
  },
  {
   "cell_type": "code",
   "execution_count": 5,
   "id": "7815d122-5ce7-4a94-8f2f-e106559977a3",
   "metadata": {
    "tags": []
   },
   "outputs": [],
   "source": [
    "import torch.nn as nn\n",
    "import torch.nn.functional as F\n",
    "\n",
    "# PyTorch 模型继承自 torch.nn.Module\n",
    "class GarmentClassifier(nn.Module):\n",
    "    def __init__(self):\n",
    "        super(GarmentClassifier, self).__init__()\n",
    "        self.conv1 = nn.Conv2d(1, 6, 5)\n",
    "        self.pool = nn.MaxPool2d(2, 2)\n",
    "        self.conv2 = nn.Conv2d(6, 16, 5)\n",
    "        self.fc1 = nn.Linear(16 * 4 * 4, 120)\n",
    "        self.fc2 = nn.Linear(120, 84)\n",
    "        self.fc3 = nn.Linear(84, 10)\n",
    "\n",
    "    def forward(self, x):\n",
    "        x = self.pool(F.relu(self.conv1(x)))\n",
    "        x = self.pool(F.relu(self.conv2(x)))\n",
    "        x = x.view(-1, 16 * 4 * 4)\n",
    "        x = F.relu(self.fc1(x))\n",
    "        x = F.relu(self.fc2(x))\n",
    "        x = self.fc3(x)\n",
    "        return x\n",
    "\n",
    "\n",
    "model = GarmentClassifier()"
   ]
  },
  {
   "cell_type": "markdown",
   "id": "64e8fb2f-c3a4-41d4-9600-3a4de080b1ea",
   "metadata": {},
   "source": [
    "## Loss Function\n",
    "\n",
    "在这个例子中，我们将使用一个交叉熵损失。为了演示，我们将创建一批假的输出和标签值，通过损失函数运行它们，并检查结果。"
   ]
  },
  {
   "cell_type": "code",
   "execution_count": 6,
   "id": "bb4e0796-019d-4985-9431-d2640620d9f0",
   "metadata": {
    "tags": []
   },
   "outputs": [
    {
     "name": "stdout",
     "output_type": "stream",
     "text": [
      "tensor([[0.2712, 0.4674, 0.5883, 0.8846, 0.6150, 0.2307, 0.6500, 0.9596, 0.2869,\n",
      "         0.1492],\n",
      "        [0.3574, 0.2543, 0.0201, 0.5144, 0.7854, 0.2183, 0.9674, 0.6228, 0.1985,\n",
      "         0.1773],\n",
      "        [0.1609, 0.6773, 0.0123, 0.2058, 0.8442, 0.4827, 0.8952, 0.1710, 0.2615,\n",
      "         0.3651],\n",
      "        [0.0508, 0.2663, 0.0414, 0.1379, 0.1583, 0.3826, 0.6810, 0.4909, 0.4166,\n",
      "         0.8216]])\n",
      "tensor([1, 5, 3, 7])\n",
      "这一批次的总损失： 2.4143130779266357\n"
     ]
    }
   ],
   "source": [
    "loss_fn = torch.nn.CrossEntropyLoss()\n",
    "\n",
    "# NB: 损失函数希望数据是分批的，所以我们要创建4个批次的数据。\n",
    "# 代表模型对给定输入的10个类别中每个类别的置信度\n",
    "\n",
    "dummy_outputs = torch.rand(4, 10)\n",
    "# 表示10个测试中的正确类别\n",
    "dummy_labels = torch.tensor([1, 5, 3, 7])\n",
    "\n",
    "print(dummy_outputs)\n",
    "print(dummy_labels)\n",
    "\n",
    "loss = loss_fn(dummy_outputs, dummy_labels)\n",
    "print('这一批次的总损失： {}'.format(loss.item()))"
   ]
  },
  {
   "cell_type": "markdown",
   "id": "ac498bca-3e4d-4e9f-8252-7d5f1f9f6f00",
   "metadata": {},
   "source": [
    "## Optimizer\n",
    "\n",
    "在这个例子中，我们将使用简单的随机梯度下降法和动量。\n",
    "\n",
    "尝试这种优化方案的一些变化可能会有所启发：\n",
    "\n",
    "- 学习率决定了优化器的步骤的大小。就准确性和收敛时间而言，不同的学习率会对你的训练结果产生什么影响？\n",
    "\n",
    "- 动量使优化器在多个步骤中向最强梯度的方向推进。改变这个值对你的结果有什么作用？\n",
    "\n",
    "- 尝试一些不同的优化算法，如平均SGD、Adagrad或Adam。你的结果有什么不同？"
   ]
  },
  {
   "cell_type": "code",
   "execution_count": 7,
   "id": "515f6e0b-0bc3-47df-8e22-435583048cc1",
   "metadata": {
    "tags": []
   },
   "outputs": [],
   "source": [
    "# 优化器在 torch.optim 包中被指定\n",
    "optimizer = torch.optim.SGD(model.parameters(), lr=0.001, momentum=0.9)"
   ]
  },
  {
   "cell_type": "markdown",
   "id": "caaa5fbc-6166-4ec1-b2e2-f7fc01be4b96",
   "metadata": {},
   "source": [
    "## The Training Loop\n",
    "\n",
    "下面，我们有一个函数，执行一个训练世代。它从DataLoader中列举数据，并在循环的每一次传递中做以下工作：\n",
    "\n",
    "- 从DataLoader中获取一批训练数据\n",
    "\n",
    "- 将优化器的梯度清零\n",
    "\n",
    "- 执行推理--也就是说，从模型中获得对一个输入批次的预测结果\n",
    "\n",
    "- 计算该组预测的损失与数据集上的标签之间的关系\n",
    "\n",
    "- 计算学习权重的后向梯度\n",
    "\n",
    "- 告诉优化器执行一个学习步骤--即根据我们选择的优化算法，基于该批次的观察梯度调整模型的学习权重\n",
    "\n",
    "- 它报告每1000个批次的损失。\n",
    "\n",
    "- 最后，它报告过去1000批的每批平均损失，以便与验证运行进行比较。"
   ]
  },
  {
   "cell_type": "code",
   "execution_count": null,
   "id": "b9175724-56f1-4039-b178-cfc5375fd4d3",
   "metadata": {},
   "outputs": [],
   "source": [
    "def train_one_epoch(epoch_index, tb_writer):\n",
    "    running_loss = 0.\n",
    "    last_loss = 0.\n",
    "    \n",
    "    # 这里，我们使用enumerate(training_loader)而不是\n",
    "    # iter(training_loader)，这样我们就可以跟踪批次的\n",
    "    # 索引并做一些周期内的报告\n",
    "    for i, data in enumerate(training_loader):\n",
    "        # 每个数据实例都是 输入 + 标签对\n",
    "        inputs, labels = data\n",
    "        \n",
    "        # 对每个批次归零梯度\n",
    "        optimizer.zero_grad()\n",
    "        \n",
    "        # 对每个批次做预测\n",
    "        outputs = model(inputs)\n",
    "        \n",
    "        # 计算损失和它的梯度\n",
    "        loss = loss_fn(outputs, labels)"
   ]
  }
 ],
 "metadata": {
  "kernelspec": {
   "display_name": "jpth",
   "language": "python",
   "name": "jpth"
  },
  "language_info": {
   "codemirror_mode": {
    "name": "ipython",
    "version": 3
   },
   "file_extension": ".py",
   "mimetype": "text/x-python",
   "name": "python",
   "nbconvert_exporter": "python",
   "pygments_lexer": "ipython3",
   "version": "3.7.12"
  }
 },
 "nbformat": 4,
 "nbformat_minor": 5
}
