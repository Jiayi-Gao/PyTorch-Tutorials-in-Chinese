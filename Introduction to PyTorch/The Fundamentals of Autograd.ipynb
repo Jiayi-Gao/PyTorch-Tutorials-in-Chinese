{
 "cells": [
  {
   "cell_type": "markdown",
   "id": "2204c1de-6b53-4eb3-9b44-6a4f7d6217de",
   "metadata": {},
   "source": [
    "# THE FUNDAMENTALS OF AUTOGRAD\n",
    "\n",
    "PyTorch的Autograd功能是PyTorch在构建机器学习项目时灵活、快速的原因之一。它允许在一个复杂的计算中快速和便捷地计算多个偏导数（也被称为梯度）。这种操作是基于反向传播的神经网络学习的核心。\n",
    "\n",
    "autograd的强大之处在于它在运行时动态追踪你的计算，这意味着如果你的模型有决策分支，或者在运行时才知道其长度的循环，计算仍然会被正确追踪，你会得到正确的梯度来驱动学习。这一点，再加上你的模型是用Python构建的，比那些依靠静态分析更严格的结构化模型来计算梯度的框架要灵活得多。"
   ]
  },
  {
   "cell_type": "markdown",
   "id": "b7108614-5b17-4d20-9e39-18e9a2975de3",
   "metadata": {},
   "source": [
    "## What Do We Need Autograd For?\n",
    "\n",
    "一个机器学习的模型就是一个带有输入和输出的函数。在这一节的讨论中，我们把带有$x_i$元素的一个i维向量 $\\vec x$作为输入。然后，我们可以将模型M表示为输入的矢量值函数： $\\vec y = \\vec M (\\vec x)$。（我们把M的输出值当作一个向量，因为一般来说，一个模型可以有任何数量的输出。）\n",
    "\n",
    "由于我们主要是在训练的背景下讨论autograd，我们感兴趣的输出将是模型的损失。损失函数$L(\\vec y) = L(\\vec M(\\vec x))$是一个模型输出的单值的标量函数。这个函数表示我们的模型预测与某一特定输入的理想输出有多大的偏差。注意：在这之后，我们通常会在上下文明确的省略矢量符号--例如，$y$代表$\\vec y$。\n",
    "\n",
    "在训练一个模型时，我们要使损失最小化。在理想化的完美模型的情况下，这意味着调整其学习权重--也就是函数的可调参数--使所有输入的损失为零。在现实世界中，这意味着一个反复调整学习权重的过程，直到我们看到模型在各种输入下都可以得到一个可容忍的损失。\n",
    "\n",
    "我们如何确定在多大程度上和哪个方向上推动权重？我们想使损失*最小化*，这意味着使其相对于输入的第一次导数等于0： $\\frac{\\partial L}{\\partial x} = 0$。\n",
    "\n",
    "不过，回顾一下，损失不是直接来自输入，而是模型输出的一个函数（是输入的一个函数），$\\frac {\\partial L}{\\partial x} = \\frac {\\partial L(\\vec y)}{\\partial x}$，根据链式求导法则，我们有$\\frac {\\partial L(\\vec y)}{\\partial x} = \\frac {\\partial L}{\\partial y} \\frac {\\partial y}{\\partial x} = \\frac {\\partial L}{\\partial y} \\frac {\\partial M(x)}{\\partial x}$。\n",
    "\n",
    "$\\frac {\\partial M(x)}{\\partial x}$ 是事情变复杂的地方。模型输出的偏导数与它的输入有关，如果我们再次使用链式法则扩展表达式，这将涉及到对每一个乘法学习权重、每一个激活函数和模型中每一个其他数学变换的许多局部偏导。每个这样的偏导的完整表达式是通过计算图的每个可能路径的局部梯度的乘积之和，这些路径的终点是我们试图计算其梯度的变量。\n",
    "\n",
    "特别地，我们感兴趣的是学习权重的梯度，它们告诉我们每个权重向*什么方向改变*来使损失趋近于0。\n",
    "\n",
    "由于局部导数（每一个都相对于模型计算图的一个单独路径）的数量将会随着神经网络的深度呈指数级增长，它们计算的复杂度也是如此。这就是autograd介入的地方，它会追踪每一个计算的历史。PyTorch模型中的每个计算张量都带有其输入张量和用于创建张量的函数的历史。再加上旨在作用于张量的PyTorch函数都有一个内置的实现来计算自己的导数，这大大加快了学习所需的局部导数的计算。"
   ]
  },
  {
   "cell_type": "markdown",
   "id": "5e15b5ee-9b43-494c-8bef-706a84f660f5",
   "metadata": {},
   "source": [
    "## A Simple Example\n",
    "\n",
    "上面是一些理论，但是在实践中使用autograd是什么样的呢？\n",
    "\n",
    "让我们通过一个简单的样例看看。首先，首先，我们要做一些导入，让我们把结果以图的形式展示出来："
   ]
  },
  {
   "cell_type": "code",
   "execution_count": 2,
   "id": "757144ef-ca7d-4ec5-9d79-1cfafda8a862",
   "metadata": {
    "tags": []
   },
   "outputs": [],
   "source": [
    "import torch\n",
    "\n",
    "import matplotlib.pyplot as plt\n",
    "import matplotlib.ticker as ticker\n",
    "import math"
   ]
  },
  {
   "cell_type": "markdown",
   "id": "c839a689-f689-4dca-80ce-ac515dd83948",
   "metadata": {},
   "source": [
    "接下来，我们将创建一个输入张量，该张量填充在区间 $[0,2\\pi]$ 内均匀分布的数值，并指定 `requires_grad=True`。（和大多数创建张量的函数一样，`torch.linspace()` 接受一个可选的 `requires_grad` 选项）。设置这个标志意味着在接下来的每一次计算中，autograd将在该计算的输出张量中积累计算的历史。"
   ]
  },
  {
   "cell_type": "code",
   "execution_count": 3,
   "id": "da4999df-57ca-40a6-93cc-0839de6bdf2e",
   "metadata": {
    "tags": []
   },
   "outputs": [
    {
     "name": "stdout",
     "output_type": "stream",
     "text": [
      "tensor([0.0000, 0.2618, 0.5236, 0.7854, 1.0472, 1.3090, 1.5708, 1.8326, 2.0944,\n",
      "        2.3562, 2.6180, 2.8798, 3.1416, 3.4034, 3.6652, 3.9270, 4.1888, 4.4506,\n",
      "        4.7124, 4.9742, 5.2360, 5.4978, 5.7596, 6.0214, 6.2832],\n",
      "       requires_grad=True)\n"
     ]
    }
   ],
   "source": [
    "a = torch.linspace(0., 2. * math.pi, steps=25, requires_grad=True)\n",
    "print(a)"
   ]
  },
  {
   "cell_type": "markdown",
   "id": "864fc66b-be21-47ec-89f0-607c8686de54",
   "metadata": {},
   "source": [
    "接下来，我们将进行一次计算，并根据其输入绘制其输出："
   ]
  },
  {
   "cell_type": "code",
   "execution_count": 4,
   "id": "46ba4b29-02b3-4edc-aa32-3f7ff25108dd",
   "metadata": {
    "tags": []
   },
   "outputs": [
    {
     "data": {
      "text/plain": [
       "[<matplotlib.lines.Line2D at 0x7f805ab70a90>]"
      ]
     },
     "execution_count": 4,
     "metadata": {},
     "output_type": "execute_result"
    },
    {
     "data": {
      "image/png": "[encoded data removed]",
      "text/plain": [
       "<Figure size 432x288 with 1 Axes>"
      ]
     },
     "metadata": {
      "needs_background": "light"
     },
     "output_type": "display_data"
    }
   ],
   "source": [
    "b = torch.sin(a)\n",
    "plt.plot(a.detach(), b.detach())"
   ]
  },
  {
   "cell_type": "markdown",
   "id": "e706f98d-85d7-491f-9ea8-4cb0ca47ba30",
   "metadata": {},
   "source": [
    "我们在仔细的看一下张量 `b`。当我们打印它，我们看到了一个指标，它正在跟踪其计算历史："
   ]
  },
  {
   "cell_type": "code",
   "execution_count": 5,
   "id": "41376dc4-3601-4df5-a4a2-7ad9f593342a",
   "metadata": {
    "tags": []
   },
   "outputs": [
    {
     "name": "stdout",
     "output_type": "stream",
     "text": [
      "tensor([ 0.0000e+00,  2.5882e-01,  5.0000e-01,  7.0711e-01,  8.6603e-01,\n",
      "         9.6593e-01,  1.0000e+00,  9.6593e-01,  8.6603e-01,  7.0711e-01,\n",
      "         5.0000e-01,  2.5882e-01, -8.7423e-08, -2.5882e-01, -5.0000e-01,\n",
      "        -7.0711e-01, -8.6603e-01, -9.6593e-01, -1.0000e+00, -9.6593e-01,\n",
      "        -8.6603e-01, -7.0711e-01, -5.0000e-01, -2.5882e-01,  1.7485e-07],\n",
      "       grad_fn=<SinBackward0>)\n"
     ]
    }
   ],
   "source": [
    "print(b)"
   ]
  },
  {
   "cell_type": "markdown",
   "id": "8004afb2-d322-404d-859f-fc56eb471df9",
   "metadata": {},
   "source": [
    "这个 `grad_fn` 给了我们一个提示，当我们执行反向传播步骤并计算梯度时，我们需要为这个张量的所有输入计算$\\sin(x)$的梯度。\n",
    "\n",
    "让我们再进行一些计算："
   ]
  },
  {
   "cell_type": "code",
   "execution_count": 6,
   "id": "93ab9e84-c662-4a11-ad82-7fa3aea989a0",
   "metadata": {
    "tags": []
   },
   "outputs": [
    {
     "name": "stdout",
     "output_type": "stream",
     "text": [
      "tensor([ 0.0000e+00,  5.1764e-01,  1.0000e+00,  1.4142e+00,  1.7321e+00,\n",
      "         1.9319e+00,  2.0000e+00,  1.9319e+00,  1.7321e+00,  1.4142e+00,\n",
      "         1.0000e+00,  5.1764e-01, -1.7485e-07, -5.1764e-01, -1.0000e+00,\n",
      "        -1.4142e+00, -1.7321e+00, -1.9319e+00, -2.0000e+00, -1.9319e+00,\n",
      "        -1.7321e+00, -1.4142e+00, -1.0000e+00, -5.1764e-01,  3.4969e-07],\n",
      "       grad_fn=<MulBackward0>)\n",
      "tensor([ 1.0000e+00,  1.5176e+00,  2.0000e+00,  2.4142e+00,  2.7321e+00,\n",
      "         2.9319e+00,  3.0000e+00,  2.9319e+00,  2.7321e+00,  2.4142e+00,\n",
      "         2.0000e+00,  1.5176e+00,  1.0000e+00,  4.8236e-01, -3.5763e-07,\n",
      "        -4.1421e-01, -7.3205e-01, -9.3185e-01, -1.0000e+00, -9.3185e-01,\n",
      "        -7.3205e-01, -4.1421e-01,  4.7684e-07,  4.8236e-01,  1.0000e+00],\n",
      "       grad_fn=<AddBackward0>)\n"
     ]
    }
   ],
   "source": [
    "c = 2 * b\n",
    "print(c)\n",
    "\n",
    "d = c + 1\n",
    "print(d)"
   ]
  },
  {
   "cell_type": "markdown",
   "id": "c4d3409b-179f-4c02-af6c-e76dd4e82e77",
   "metadata": {},
   "source": [
    "最后，让我们来计算一个单元素的输出。当你在一个没有参数的张量上调用 `.backward()` 时，它希望调用的张量只包含一个元素，就像计算损失函数时的情况。"
   ]
  },
  {
   "cell_type": "code",
   "execution_count": 7,
   "id": "417b6314-86b8-4a0d-978c-07384c825769",
   "metadata": {
    "tags": []
   },
   "outputs": [
    {
     "name": "stdout",
     "output_type": "stream",
     "text": [
      "tensor(25., grad_fn=<SumBackward0>)\n"
     ]
    }
   ],
   "source": [
    "out = d.sum()\n",
    "print(out)"
   ]
  },
  {
   "cell_type": "markdown",
   "id": "2a327fab-094d-459b-861e-23b9640fefb1",
   "metadata": {},
   "source": [
    "与我们的张量一起存储的每个 `grad_fn` 允许你通过其 `next_functions` 属性将计算一直追溯到其输入。我们可以看到，在 `d` 的这个属性上往下追溯，可以看到所有先前的张量的梯度函数。请注意，`a.grad_fn` 被报告为 `None` ，表明这是一个没有历史的函数的输入。"
   ]
  },
  {
   "cell_type": "code",
   "execution_count": 8,
   "id": "7be81ed0-d283-41e2-8106-ad14dad6973a",
   "metadata": {
    "tags": []
   },
   "outputs": [
    {
     "name": "stdout",
     "output_type": "stream",
     "text": [
      "d:\n",
      "<AddBackward0 object at 0x7f8052379bd0>\n",
      "((<MulBackward0 object at 0x7f80522805d0>, 0), (None, 0))\n",
      "((<SinBackward0 object at 0x7f805222f290>, 0), (None, 0))\n",
      "((<AccumulateGrad object at 0x7f80522805d0>, 0),)\n",
      "()\n",
      "\n",
      "c:\n",
      "<MulBackward0 object at 0x7f8052372310>\n",
      "\n",
      "b:\n",
      "<SinBackward0 object at 0x7f805222f290>\n",
      "\n",
      "a:\n",
      "None\n"
     ]
    }
   ],
   "source": [
    "print('d:')\n",
    "print(d.grad_fn)\n",
    "print(d.grad_fn.next_functions)\n",
    "print(d.grad_fn.next_functions[0][0].next_functions)\n",
    "print(d.grad_fn.next_functions[0][0].next_functions[0][0].next_functions)\n",
    "print(d.grad_fn.next_functions[0][0].next_functions[0][0].next_functions[0][0].next_functions)\n",
    "print('\\nc:')\n",
    "print(c.grad_fn)\n",
    "print('\\nb:')\n",
    "print(b.grad_fn)\n",
    "print('\\na:')\n",
    "print(a.grad_fn)"
   ]
  },
  {
   "cell_type": "markdown",
   "id": "00973244-7ed9-4df4-9d28-6268ab140bd3",
   "metadata": {},
   "source": [
    "有了所有这些机制，我们如何获得导数呢？我们可以在输出上调用 `backward()` 方法，并检查输入的 `grad` 属性以检查梯度："
   ]
  },
  {
   "cell_type": "code",
   "execution_count": 9,
   "id": "98797d2a-40de-4aaf-ad92-aa8e24fe4c0c",
   "metadata": {
    "tags": []
   },
   "outputs": [
    {
     "name": "stdout",
     "output_type": "stream",
     "text": [
      "tensor([ 2.0000e+00,  1.9319e+00,  1.7321e+00,  1.4142e+00,  1.0000e+00,\n",
      "         5.1764e-01, -8.7423e-08, -5.1764e-01, -1.0000e+00, -1.4142e+00,\n",
      "        -1.7321e+00, -1.9319e+00, -2.0000e+00, -1.9319e+00, -1.7321e+00,\n",
      "        -1.4142e+00, -1.0000e+00, -5.1764e-01,  2.3850e-08,  5.1764e-01,\n",
      "         1.0000e+00,  1.4142e+00,  1.7321e+00,  1.9319e+00,  2.0000e+00])\n"
     ]
    },
    {
     "data": {
      "text/plain": [
       "[<matplotlib.lines.Line2D at 0x7f8052152050>]"
      ]
     },
     "execution_count": 9,
     "metadata": {},
     "output_type": "execute_result"
    },
    {
     "data": {
      "image/png": "[encoded data removed]",
      "text/plain": [
       "<Figure size 432x288 with 1 Axes>"
      ]
     },
     "metadata": {
      "needs_background": "light"
     },
     "output_type": "display_data"
    }
   ],
   "source": [
    "out.backward()\n",
    "print(a.grad)\n",
    "plt.plot(a.detach(), a.grad.detach())"
   ]
  },
  {
   "cell_type": "markdown",
   "id": "84bc137e-b672-4a20-b46e-62edfcb7f75d",
   "metadata": {},
   "source": [
    "回忆一下我们走到这里的计算步骤："
   ]
  },
  {
   "cell_type": "code",
   "execution_count": 10,
   "id": "8171157b-deae-4c70-9c2d-d3d354134310",
   "metadata": {
    "tags": []
   },
   "outputs": [],
   "source": [
    "a = torch.linspace(0., 2. * math.pi, steps=25, requires_grad=True)\n",
    "b = torch.sin(a)\n",
    "c = 2 * b\n",
    "d = c + 1\n",
    "out = d.sum()"
   ]
  },
  {
   "cell_type": "markdown",
   "id": "54755bc5-2c33-4289-9093-f89465f7023a",
   "metadata": {},
   "source": [
    "添加一个常数，就像我们计算 `d` 那样，并不改变导数。这样，$c= 2 \\times b=2 \\times sin(a)$，其导数应该是 $2 \\times cos(a)$。看一下上面的图，这就是我们看到的情况。\n",
    "\n",
    "请注意，只有计算的叶子节点才会计算它们的梯度。如果你尝试 `print(c.grad)` 你会得到 `None`。在这个简单的例子中，只有输入是一个叶子节点，所以只有它有梯度计算。"
   ]
  },
  {
   "cell_type": "markdown",
   "id": "2161d554-0ca9-4279-bf75-a02322356112",
   "metadata": {},
   "source": [
    "## Autograd in Training\n",
    "\n",
    "我们已经简单了解了autograd的工作原理，但当它被用于预定的目的时，它看起来如何？让我们定义一个小模型，并检查它在一个训练批次后的变化。首先，定义几个常量，我们的模型，以及一些输入和输出的替代："
   ]
  },
  {
   "cell_type": "code",
   "execution_count": 18,
   "id": "f0c4bc22-3b00-402d-aefe-180d3b4ee8c5",
   "metadata": {
    "tags": []
   },
   "outputs": [],
   "source": [
    "BATCH_SIZE = 16\n",
    "DIM_IN = 1000\n",
    "HIDDEN_SIZE = 100\n",
    "DIM_OUT = 10\n",
    "\n",
    "class TinyModel(torch.nn.Module):\n",
    "    \n",
    "    def __init__(self):\n",
    "        super(TinyModel, self).__init__()\n",
    "        \n",
    "        self.layer1 = torch.nn.Linear(1000, 100)\n",
    "        self.relu = torch.nn.ReLU()\n",
    "        self.layer2 = torch.nn.Linear(100, 10)\n",
    "        \n",
    "    def forward(self, x):\n",
    "        x = self.layer1(x)\n",
    "        x = self.relu(x)\n",
    "        x = self.layer2(x)\n",
    "        return x\n",
    "    \n",
    "some_input = torch.randn(BATCH_SIZE, DIM_IN, requires_grad=False)\n",
    "ideal_output = torch.randn(BATCH_SIZE, DIM_OUT, requires_grad=False)\n",
    "\n",
    "model = TinyModel()"
   ]
  },
  {
   "cell_type": "markdown",
   "id": "739c768d-9a63-49a1-b1a7-357bf18ff054",
   "metadata": {},
   "source": [
    "你可能会注意到一件事，我们从未为模型的层指定 `requires_grad=True`。在 `torch.nn.Module` 的子类中，我们假定要跟踪各层权重的梯度进行学习。\n",
    "\n",
    "如果我们看一下模型的层，我们可以检查权重的值，并验证是否还没有计算梯度："
   ]
  },
  {
   "cell_type": "code",
   "execution_count": 19,
   "id": "48f76d3d-05e1-4a1f-b87b-825cb22bb931",
   "metadata": {
    "tags": []
   },
   "outputs": [
    {
     "name": "stdout",
     "output_type": "stream",
     "text": [
      "tensor([-0.0682,  0.0344,  0.0158,  0.0015,  0.0012,  0.0013,  0.0707, -0.0115,\n",
      "        -0.0758, -0.0405], grad_fn=<SliceBackward0>)\n",
      "None\n"
     ]
    }
   ],
   "source": [
    "print(model.layer2.weight[0][0:10]) # 一个小切片\n",
    "print(model.layer2.weight.grad)"
   ]
  },
  {
   "cell_type": "markdown",
   "id": "4fa6d3a1-0405-429a-a4a2-8476233cfade",
   "metadata": {},
   "source": [
    "让我们看看当我们运行一个训练批次时，情况会有什么变化。我们使用我们的预测和理想输出之间的欧氏距离的平方作为损失函数，并且我们将使用一个基本的随机梯度下降优化器。"
   ]
  },
  {
   "cell_type": "code",
   "execution_count": 20,
   "id": "3729bf10-28ff-45d4-a832-dd375489bdb3",
   "metadata": {
    "tags": []
   },
   "outputs": [
    {
     "name": "stdout",
     "output_type": "stream",
     "text": [
      "tensor(131.5259, grad_fn=<SumBackward0>)\n"
     ]
    }
   ],
   "source": [
    "optimizer = torch.optim.SGD(model.parameters(), lr=1e-3)\n",
    "\n",
    "prediction = model(some_input)\n",
    "\n",
    "loss = (ideal_output - prediction).pow(2).sum()\n",
    "print(loss)"
   ]
  },
  {
   "cell_type": "markdown",
   "id": "fbdd7b8c-644a-402f-9f5c-69e0868ba010",
   "metadata": {},
   "source": [
    "现在我们调用 `loss.backward()` 并且看看发生了什么："
   ]
  },
  {
   "cell_type": "code",
   "execution_count": 21,
   "id": "8c0f0549-2540-4bdc-b188-c99117b85ffa",
   "metadata": {
    "tags": []
   },
   "outputs": [
    {
     "name": "stdout",
     "output_type": "stream",
     "text": [
      "tensor([-0.0682,  0.0344,  0.0158,  0.0015,  0.0012,  0.0013,  0.0707, -0.0115,\n",
      "        -0.0758, -0.0405], grad_fn=<SliceBackward0>)\n",
      "tensor([ 2.0845,  0.4690, -4.0173,  2.4279,  0.9756, -0.8618,  2.5182,  1.6739,\n",
      "        -2.2831,  1.1891])\n"
     ]
    }
   ],
   "source": [
    "loss.backward()\n",
    "print(model.layer2.weight[0][0:10])\n",
    "print(model.layer2.weight.grad[0][0:10])"
   ]
  },
  {
   "cell_type": "code",
   "execution_count": 24,
   "id": "7b7200d4-2511-47e0-b8d6-2b258d1531a5",
   "metadata": {
    "tags": []
   },
   "outputs": [],
   "source": [
    "# model.layer2.weight[0][0:10] - model.layer2.weight.grad[0][0:10] * 1e-3"
   ]
  },
  {
   "cell_type": "markdown",
   "id": "622b1984-bfde-45fc-96f3-4bdb301bf805",
   "metadata": {},
   "source": [
    "我们可以看到，每个学习权重的梯度已经计算出来了，但是权重仍然没有变化，因为我们还没有运行优化器。优化器负责根据计算的梯度更新模型权重。"
   ]
  },
  {
   "cell_type": "code",
   "execution_count": 23,
   "id": "59f03932-5663-4501-9257-953c447346c0",
   "metadata": {
    "tags": []
   },
   "outputs": [
    {
     "name": "stdout",
     "output_type": "stream",
     "text": [
      "tensor([-0.0703,  0.0339,  0.0198, -0.0009,  0.0002,  0.0021,  0.0682, -0.0131,\n",
      "        -0.0735, -0.0417], grad_fn=<SliceBackward0>)\n",
      "tensor([ 2.0845,  0.4690, -4.0173,  2.4279,  0.9756, -0.8618,  2.5182,  1.6739,\n",
      "        -2.2831,  1.1891])\n"
     ]
    }
   ],
   "source": [
    "optimizer.step()\n",
    "print(model.layer2.weight[0][0:10])\n",
    "print(model.layer2.weight.grad[0][0:10])"
   ]
  },
  {
   "cell_type": "markdown",
   "id": "8ec5f464-8e36-49c6-85cd-e8770561c151",
   "metadata": {},
   "source": [
    "你应该看到了 `layer2` 的权重发生了变化。\n",
    "\n",
    "关于这个过程，有一件很重要的事情： 在调用 `optimizer.step()` 之后，你需要调用`optimizer.zero_grad()`，否则每次运行loss.backward()时，学习权重上的梯度会累积起来："
   ]
  },
  {
   "cell_type": "code",
   "execution_count": 25,
   "id": "732b827d-29f5-4c1e-8d43-8d9b7f70b764",
   "metadata": {
    "tags": []
   },
   "outputs": [
    {
     "name": "stdout",
     "output_type": "stream",
     "text": [
      "tensor([ 2.0845,  0.4690, -4.0173,  2.4279,  0.9756, -0.8618,  2.5182,  1.6739,\n",
      "        -2.2831,  1.1891])\n",
      "tensor([  8.2327,   3.3867, -13.0232,   8.7149,   5.0187,  -6.6933,  -5.5305,\n",
      "         10.1438,  -4.4911,   6.5221])\n",
      "tensor([0., 0., 0., 0., 0., 0., 0., 0., 0., 0.])\n"
     ]
    }
   ],
   "source": [
    "print(model.layer2.weight.grad[0][0:10])\n",
    "\n",
    "for i in range(0, 5):\n",
    "    prediction = model(some_input)\n",
    "    loss = (ideal_output - prediction).pow(2).sum()\n",
    "    loss.backward()\n",
    "    \n",
    "print(model.layer2.weight.grad[0][0:10])\n",
    "\n",
    "optimizer.zero_grad(set_to_none=False)\n",
    "\n",
    "print(model.layer2.weight.grad[0][0:10])"
   ]
  },
  {
   "cell_type": "markdown",
   "id": "4e319b57-c571-4ec9-8a5c-6be1bfc27f1b",
   "metadata": {},
   "source": [
    "在运行上述单元后，你应该看到在多次运行 `loss.backward()` 后，大多数梯度的量级会大很多。在运行下一个训练批次之前，如果没有将梯度归零，将导致梯度以这种方式爆炸，造成不正确和不可预测的学习结果。"
   ]
  },
  {
   "cell_type": "markdown",
   "id": "9343c675-96cd-44d0-ab78-1c6814534089",
   "metadata": {},
   "source": [
    "## Turning Autograd Off and On\n",
    "\n",
    "在有些情况下，你需要对是否启用autograd进行细粒度的控制。根据不同的情况，有多种方法可以做到这一点。\n",
    "\n",
    "最简单的是直接改变张量上的 `requires_grad` 标志："
   ]
  },
  {
   "cell_type": "code",
   "execution_count": 26,
   "id": "3382fe93-0b8b-4267-ad73-e6a2cb4cbb4b",
   "metadata": {
    "tags": []
   },
   "outputs": [
    {
     "name": "stdout",
     "output_type": "stream",
     "text": [
      "tensor([[1., 1., 1.],\n",
      "        [1., 1., 1.]], requires_grad=True)\n",
      "tensor([[2., 2., 2.],\n",
      "        [2., 2., 2.]], grad_fn=<MulBackward0>)\n",
      "tensor([[2., 2., 2.],\n",
      "        [2., 2., 2.]])\n"
     ]
    }
   ],
   "source": [
    "a = torch.ones(2, 3, requires_grad=True)\n",
    "print(a)\n",
    "\n",
    "b1 = 2 * a\n",
    "print(b1)\n",
    "\n",
    "a.requires_grad = False\n",
    "b2 = 2 * a\n",
    "print(b2)"
   ]
  },
  {
   "cell_type": "markdown",
   "id": "ce59b2ee-ef02-4bc6-ab27-f5555b5ea9ae",
   "metadata": {},
   "source": [
    "在上面的单元格中，我们看到 `b1` 有一个 `grad_fn` （即追踪的计算历史），这是我们所期望的，因为它是从一个打开了autograd的张量 `a` 派生的。当我们用 `a.requires_grad = False` 明确地关闭autograd时，计算历史就不再被追踪了，正如我们在计算 `b2` 后看到的。\n",
    "\n",
    "如果你只需要暂时关闭autograd，一个更好的方法是使用 `torch.no_grad()`："
   ]
  },
  {
   "cell_type": "code",
   "execution_count": 27,
   "id": "9abb1033-ce06-4382-a7a5-0a69169364a5",
   "metadata": {
    "tags": []
   },
   "outputs": [
    {
     "name": "stdout",
     "output_type": "stream",
     "text": [
      "tensor([[5., 5., 5.],\n",
      "        [5., 5., 5.]], grad_fn=<AddBackward0>)\n",
      "tensor([[5., 5., 5.],\n",
      "        [5., 5., 5.]])\n",
      "tensor([[6., 6., 6.],\n",
      "        [6., 6., 6.]], grad_fn=<MulBackward0>)\n"
     ]
    }
   ],
   "source": [
    "a = torch.ones(2, 3, requires_grad=True) * 2\n",
    "b = torch.ones(2, 3, requires_grad=True) * 3\n",
    "\n",
    "c1 = a + b\n",
    "print(c1)\n",
    "\n",
    "with torch.no_grad():\n",
    "    c2 = a + b\n",
    "\n",
    "print(c2)\n",
    "\n",
    "c3 = a * b\n",
    "print(c3)"
   ]
  },
  {
   "cell_type": "markdown",
   "id": "cabe864f-bc68-4fc2-86c5-6075a8170551",
   "metadata": {},
   "source": [
    "`torch.no_grad()` 也可以作为一个函数或方法修饰器使用："
   ]
  },
  {
   "cell_type": "code",
   "execution_count": 28,
   "id": "f948ec5f-9248-4317-9d88-375960c313b5",
   "metadata": {
    "tags": []
   },
   "outputs": [
    {
     "name": "stdout",
     "output_type": "stream",
     "text": [
      "tensor([[5., 5., 5.],\n",
      "        [5., 5., 5.]], grad_fn=<AddBackward0>)\n",
      "tensor([[5., 5., 5.],\n",
      "        [5., 5., 5.]])\n"
     ]
    }
   ],
   "source": [
    "def add_tensors1(x, y):\n",
    "    return x + y\n",
    "\n",
    "@torch.no_grad()\n",
    "def add_tensors2(x, y):\n",
    "    return x + y\n",
    "\n",
    "\n",
    "a = torch.ones(2, 3, requires_grad=True) * 2\n",
    "b = torch.ones(2, 3, requires_grad=True) * 3\n",
    "\n",
    "c1 = add_tensors1(a, b)\n",
    "print(c1)\n",
    "\n",
    "c2 = add_tensors2(a, b)\n",
    "print(c2)"
   ]
  },
  {
   "cell_type": "markdown",
   "id": "1573950d-65d1-4604-a5d6-23c27ae99e80",
   "metadata": {},
   "source": [
    "有一个相应的上下文管理器，`torch.enable_grad()`，当它没有打开的时候，用于打开autograd。它也可以作为一个修饰器使用。\n",
    "\n",
    "最后，你可能有一个需要梯度跟踪的张量，但你想要一个不执行梯度跟踪的副本。为此，我们有张量对象的 `detach()` 方法，它会创建一个从计算历史中分离出来的张量副本："
   ]
  },
  {
   "cell_type": "code",
   "execution_count": 29,
   "id": "50c4d027-182b-43ac-a047-d4b4697eb2de",
   "metadata": {
    "tags": []
   },
   "outputs": [
    {
     "name": "stdout",
     "output_type": "stream",
     "text": [
      "tensor([0.5365, 0.5231, 0.7058, 0.5468, 0.9089], requires_grad=True)\n",
      "tensor([0.5365, 0.5231, 0.7058, 0.5468, 0.9089])\n"
     ]
    }
   ],
   "source": [
    "x = torch.rand(5, requires_grad=True)\n",
    "y = x.detach()\n",
    "\n",
    "print(x)\n",
    "print(y)"
   ]
  },
  {
   "cell_type": "markdown",
   "id": "9208302c-faf9-4add-9319-960c0e182d5f",
   "metadata": {},
   "source": [
    "正如我们上面所做的，当我们想对一些张量进行绘图时。因为 `matplotlib` 希望一个NumPy数组作为输入，而对于 `requires_grad=True` 的张量来说，从PyTorch张量到NumPy数组的隐式转换并没有启用。使用一个分离的副本可以让我们的方法得以正确执行。"
   ]
  },
  {
   "cell_type": "markdown",
   "id": "42a5bba7-49f2-4ec7-9fc9-227b20d95955",
   "metadata": {},
   "source": [
    "## Autograd and In-place Operations\n",
    "\n",
    "到目前为止，在这个笔记本的每个例子中，我们都使用了变量来捕捉计算的中间值。Autograd需要这些中间值来进行梯度计算。出于这个原因，在使用autograd时，你必须谨慎使用原地操作。这样做会破坏你在 `backward()` 调用中计算导数所需的信息。如果你试图对需要autograd的叶子变量进行原地操作，PyTorch甚至会阻止你，如下所示。"
   ]
  },
  {
   "cell_type": "markdown",
   "id": "aede35fe-0506-453d-a103-cdbf59df71b1",
   "metadata": {},
   "source": [
    "> **小贴士**\n",
    ">\n",
    "> 下面的代码会抛出一个runtime error.这是意料之中的。"
   ]
  },
  {
   "cell_type": "code",
   "execution_count": 30,
   "id": "b3b2bb01-8a0a-49d2-a328-1234ef654f10",
   "metadata": {
    "tags": []
   },
   "outputs": [
    {
     "ename": "RuntimeError",
     "evalue": "a leaf Variable that requires grad is being used in an in-place operation.",
     "output_type": "error",
     "traceback": [
      "\u001b[0;31m---------------------------------------------------------------------------\u001b[0m",
      "\u001b[0;31mRuntimeError\u001b[0m                              Traceback (most recent call last)",
      "\u001b[0;32m<ipython-input-30-cffbbcd7d649>\u001b[0m in \u001b[0;36m<module>\u001b[0;34m\u001b[0m\n\u001b[1;32m      1\u001b[0m \u001b[0ma\u001b[0m \u001b[0;34m=\u001b[0m \u001b[0mtorch\u001b[0m\u001b[0;34m.\u001b[0m\u001b[0mlinspace\u001b[0m\u001b[0;34m(\u001b[0m\u001b[0;36m0.\u001b[0m\u001b[0;34m,\u001b[0m \u001b[0;36m2.\u001b[0m \u001b[0;34m*\u001b[0m \u001b[0mmath\u001b[0m\u001b[0;34m.\u001b[0m\u001b[0mpi\u001b[0m\u001b[0;34m,\u001b[0m \u001b[0msteps\u001b[0m\u001b[0;34m=\u001b[0m\u001b[0;36m25\u001b[0m\u001b[0;34m,\u001b[0m \u001b[0mrequires_grad\u001b[0m\u001b[0;34m=\u001b[0m\u001b[0;32mTrue\u001b[0m\u001b[0;34m)\u001b[0m\u001b[0;34m\u001b[0m\u001b[0;34m\u001b[0m\u001b[0m\n\u001b[0;32m----> 2\u001b[0;31m \u001b[0mtorch\u001b[0m\u001b[0;34m.\u001b[0m\u001b[0msin_\u001b[0m\u001b[0;34m(\u001b[0m\u001b[0ma\u001b[0m\u001b[0;34m)\u001b[0m\u001b[0;34m\u001b[0m\u001b[0;34m\u001b[0m\u001b[0m\n\u001b[0m",
      "\u001b[0;31mRuntimeError\u001b[0m: a leaf Variable that requires grad is being used in an in-place operation."
     ]
    }
   ],
   "source": [
    "a = torch.linspace(0., 2. * math.pi, steps=25, requires_grad=True)\n",
    "torch.sin_(a)"
   ]
  },
  {
   "cell_type": "markdown",
   "id": "c40fc9d4-54cd-40aa-89ba-9f9213e54a01",
   "metadata": {},
   "source": [
    "## Autograd Profiler\n",
    "\n",
    "Autograd详细地跟踪你的每一步计算。这样的计算历史，结合时间信息，将成为一个方便的剖析器--而autograd已经将这个功能内置于其中。下面是一个快速使用的例子："
   ]
  },
  {
   "cell_type": "code",
   "execution_count": 32,
   "id": "0d07c605-d737-4e87-b0f3-18804688e1b6",
   "metadata": {
    "tags": []
   },
   "outputs": [
    {
     "name": "stdout",
     "output_type": "stream",
     "text": [
      "---------------------------  ------------  ------------  ------------  ------------  ------------  ------------  ------------  ------------  ------------  ------------  \n",
      "                       Name    Self CPU %      Self CPU   CPU total %     CPU total  CPU time avg     Self CUDA   Self CUDA %    CUDA total  CUDA time avg    # of Calls  \n",
      "---------------------------  ------------  ------------  ------------  ------------  ------------  ------------  ------------  ------------  ------------  ------------  \n",
      "    cudaGetDeviceProperties        64.96%       9.409ms        64.96%       9.409ms     940.900us       0.000us         0.00%       0.000us       0.000us            10  \n",
      "                  aten::div        17.56%       2.543ms        17.56%       2.543ms       2.543us       6.881ms        41.53%       6.881ms       6.881us          1000  \n",
      "                  aten::mul        17.23%       2.496ms        17.23%       2.496ms       2.496us       9.689ms        58.47%       9.689ms       9.689us          1000  \n",
      "      cudaDeviceSynchronize         0.23%      34.000us         0.23%      34.000us      34.000us       0.000us         0.00%       0.000us       0.000us             1  \n",
      "      cudaStreamIsCapturing         0.01%       2.000us         0.01%       2.000us       0.067us       0.000us         0.00%       0.000us       0.000us            30  \n",
      "         cudaGetDeviceCount         0.00%       0.000us         0.00%       0.000us       0.000us       0.000us         0.00%       0.000us       0.000us             1  \n",
      "---------------------------  ------------  ------------  ------------  ------------  ------------  ------------  ------------  ------------  ------------  ------------  \n",
      "Self CPU time total: 14.484ms\n",
      "Self CUDA time total: 16.570ms\n",
      "\n"
     ]
    }
   ],
   "source": [
    "device = torch.device('cpu')\n",
    "run_on_gpu = False\n",
    "if torch.cuda.is_available():\n",
    "    device = torch.device('cuda')\n",
    "    run_on_gpu = True\n",
    "\n",
    "x = torch.randn(2, 3, requires_grad=True)\n",
    "y = torch.rand(2, 3, requires_grad=True)\n",
    "z = torch.ones(2, 3, requires_grad=True)\n",
    "\n",
    "with torch.autograd.profiler.profile(use_cuda=run_on_gpu) as prf:\n",
    "    for _ in range(1000):\n",
    "        z = (z / x) * y\n",
    "\n",
    "print(prf.key_averages().table(sort_by='self_cpu_time_total'))"
   ]
  },
  {
   "cell_type": "markdown",
   "id": "8847bec1-5484-4277-9caf-4b8087c6b00f",
   "metadata": {},
   "source": [
    "剖析器还可以标记代码的单个子块，按输入张量形状划分数据，并将数据导出为Chrome追踪工具文件。有关API的全部细节，请参见[文档](https://pytorch.org/docs/stable/autograd.html#profiler)。"
   ]
  },
  {
   "cell_type": "markdown",
   "id": "4f6396c9-8847-423f-bc9c-619afb068b6f",
   "metadata": {},
   "source": [
    "## Advanced Topic: More Autograd Detail and the High-Level API\n",
    "\n",
    "如果你有一个具有n维输入和m维输出的函数，$\\vec y = f(\\vec x)$，完整的梯度是每一个输出相对于每一个输入的导数的矩阵，称为*雅各布（Jacbian）矩阵*：\n",
    "\n",
    "$J=\\left(\\begin{array}{ccc}\n",
    "\\frac{\\partial y_1}{\\partial x_1} & \\cdots & \\frac{\\partial y_1}{\\partial x_n} \\\\\n",
    "\\vdots & \\ddots & \\vdots \\\\\n",
    "\\frac{\\partial y_m}{\\partial x 1} & \\cdots & \\frac{\\partial y_m}{\\partial x n}\n",
    "\\end{array}\\right)$\n",
    "\n",
    "如果你有第二个函数，$l = g(\\vec y)$，它接受m维的输入（即与上述输出相同的维度），并返回一个标量的输出，你可以将其相对于 $\\vec y$ 的梯度表达为一个列向量，$v=\\left(\\begin{array}{ccc}\\frac{\\partial l}{\\partial y 1} & \\cdots & \\frac{\\partial l}{\\partial y m}\\end{array}\\right)^T$ ，这实际上只是一个单列的雅各布式。\n",
    "\n",
    "更具体地说，把第一个函数想象成你的PyTorch模型（可能有许多输入和许多输出），第二个函数是一个损失函数（模型的输出是输入，损失值是标量输出）。\n",
    "\n",
    "如果我们将第一个函数的雅各布矩阵乘以第二个函数的梯度，并应用链式法则，我们得到：\n",
    "\n",
    "$\n",
    "J^T \\cdot v=\\left(\\begin{array}{ccc}\n",
    "\\frac{\\partial y 1}{\\partial x 1} & \\cdots & \\frac{\\partial y m}{\\partial x 1} \\\\\n",
    "\\vdots & \\ddots & \\vdots \\\\\n",
    "\\frac{\\partial y 1}{\\partial x n} & \\cdots & \\frac{\\partial y m}{\\partial x n}\n",
    "\\end{array}\\right)\\left(\\begin{array}{c}\n",
    "\\frac{\\partial l}{\\partial y 1} \\\\\n",
    "\\vdots \\\\\n",
    "\\frac{\\partial l}{\\partial y m}\n",
    "\\end{array}\\right)=\\left(\\begin{array}{c}\n",
    "\\frac{\\partial l}{\\partial x 1} \\\\\n",
    "\\vdots \\\\\n",
    "\\frac{\\partial l}{\\partial x_n}\n",
    "\\end{array}\\right)\n",
    "$\n",
    "\n",
    "注意：你也可以使用等价的操作$v^T\\cdot J$，并得到一个行向量。\n",
    "\n",
    "由此产生的列向量是第二个函数相对于第一个函数的输入的梯度，或者在我们的模型和损失函数的情况下，损失相对于模型输入的梯度。\n",
    "\n",
    "**torch.autograd 是计算这些乘积的引擎。** 这就是我们如何在后向传播中积累学习权重的梯度。\n",
    "\n",
    "由于这个原因，`backward()` 调用也可以接受一个可选的向量输入。这个向量代表了一组张量上的梯度，它被乘以前面的autograd追踪张量的雅各布矩阵。让我们用一个小的向量试一下具体的例子："
   ]
  },
  {
   "cell_type": "code",
   "execution_count": 33,
   "id": "5cc49308-4fe6-4717-9cda-fa1a72425184",
   "metadata": {
    "tags": []
   },
   "outputs": [
    {
     "name": "stdout",
     "output_type": "stream",
     "text": [
      "tensor([ 536.0791, -592.8583, 1029.8279], grad_fn=<MulBackward0>)\n"
     ]
    }
   ],
   "source": [
    "x = torch.randn(3, requires_grad=True)\n",
    "\n",
    "y = x * 2\n",
    "while y.data.norm() < 1000:\n",
    "    y = y * 2\n",
    "\n",
    "print(y)"
   ]
  },
  {
   "cell_type": "markdown",
   "id": "3fd0321c-5a96-4a70-a9ec-3667eba65a09",
   "metadata": {},
   "source": [
    "如果我们现在试图调用 `y.backward()`，我们会得到一个运行时错误和一条信息，即梯度只能为标量输出隐式计算。对于一个多维输出，autograd 希望我们提供这三个输出的梯度，以便它能乘以雅各布矩阵："
   ]
  },
  {
   "cell_type": "code",
   "execution_count": 34,
   "id": "3d7da638-6b39-467f-8ce9-29df0e4b432a",
   "metadata": {
    "tags": []
   },
   "outputs": [
    {
     "name": "stdout",
     "output_type": "stream",
     "text": [
      "tensor([1.0240e+02, 1.0240e+03, 1.0240e-01])\n"
     ]
    }
   ],
   "source": [
    "v = torch.tensor([0.1, 1.0, 0.0001], dtype=torch.float) # 表示梯度\n",
    "y.backward(v)\n",
    "\n",
    "print(x.grad)"
   ]
  },
  {
   "cell_type": "markdown",
   "id": "9c72b78b-001a-42d5-b75c-773e0256ed83",
   "metadata": {},
   "source": [
    "(请注意，输出梯度都与2的幂有关--这也是我们所期望的重复加倍操作）。"
   ]
  },
  {
   "cell_type": "markdown",
   "id": "008f09fb-026f-4e50-a3a3-66929a173079",
   "metadata": {},
   "source": [
    "## The High-Level API\n",
    "\n",
    "autograd上有一个API，让你直接访问重要的微分矩阵和向量操作。特别是，它允许你计算特定输入下的特定函数的Jacobian和Hessian矩阵。(Hessian与Jacobian相似，但表达了所有的部分二阶导数)。它还提供了与这些矩阵进行矢量乘积的方法。\n",
    "\n",
    "让我们来看看一个简单函数的Jacobian，对2个单元素输入进行评估："
   ]
  },
  {
   "cell_type": "code",
   "execution_count": 35,
   "id": "6118c6c1-f16b-4c28-9567-32cf36b51320",
   "metadata": {
    "tags": []
   },
   "outputs": [
    {
     "name": "stdout",
     "output_type": "stream",
     "text": [
      "(tensor([0.5905]), tensor([0.7649]))\n"
     ]
    },
    {
     "data": {
      "text/plain": [
       "(tensor([[3.6096]]), tensor([[3.]]))"
      ]
     },
     "execution_count": 35,
     "metadata": {},
     "output_type": "execute_result"
    }
   ],
   "source": [
    "def exp_adder(x, y):\n",
    "    return 2 * x.exp() + 3 * y\n",
    "\n",
    "inputs = (torch.rand(1), torch.rand(1)) # 函数的参数\n",
    "print(inputs)\n",
    "torch.autograd.functional.jacobian(exp_adder, inputs)"
   ]
  },
  {
   "cell_type": "markdown",
   "id": "b70abef5-4db9-461f-a592-14f2add91a4c",
   "metadata": {},
   "source": [
    "如果你仔细看，第一个输出应该等于$2e^x$（因为$e^x$的导数是$e^x$），第二个值应该为。\n",
    "\n",
    "当然，你也可以用高阶张量来做这个："
   ]
  },
  {
   "cell_type": "code",
   "execution_count": 36,
   "id": "d3da6af3-bf30-42a8-80e6-8d8e60cbdca0",
   "metadata": {
    "tags": []
   },
   "outputs": [
    {
     "name": "stdout",
     "output_type": "stream",
     "text": [
      "(tensor([0.1089, 0.5990, 0.4893]), tensor([0.5958, 0.6126, 0.7583]))\n"
     ]
    },
    {
     "data": {
      "text/plain": [
       "(tensor([[2.2300, 0.0000, 0.0000],\n",
       "         [0.0000, 3.6405, 0.0000],\n",
       "         [0.0000, 0.0000, 3.2624]]),\n",
       " tensor([[3., 0., 0.],\n",
       "         [0., 3., 0.],\n",
       "         [0., 0., 3.]]))"
      ]
     },
     "execution_count": 36,
     "metadata": {},
     "output_type": "execute_result"
    }
   ],
   "source": [
    "inputs = (torch.rand(3), torch.rand(3)) # 函数的参数\n",
    "print(inputs)\n",
    "torch.autograd.functional.jacobian(exp_adder, inputs)"
   ]
  },
  {
   "cell_type": "markdown",
   "id": "74c012e4-720c-4f3a-a262-a54a2748461a",
   "metadata": {},
   "source": [
    "`torch.autograd.functional.hessian()` 方法的工作原理与此相同（假设你的函数是可两二阶导的），但会返回一个所有二介导数的矩阵。\n",
    "\n",
    "如果你提供了矢量，还有一个函数可以直接计算矢量-雅各比乘积："
   ]
  },
  {
   "cell_type": "code",
   "execution_count": 37,
   "id": "516ba25a-63a3-4988-bde8-04d6b5382a6d",
   "metadata": {
    "tags": []
   },
   "outputs": [
    {
     "data": {
      "text/plain": [
       "(tensor([-789.2786,  830.6387, -549.0214]),\n",
       " tensor([5.1200e+01, 5.1200e+02, 5.1200e-02]))"
      ]
     },
     "execution_count": 37,
     "metadata": {},
     "output_type": "execute_result"
    }
   ],
   "source": [
    "def do_some_doubling(x):\n",
    "    y = x * 2\n",
    "    while y.data.norm() < 1000:\n",
    "        y = y * 2\n",
    "    return y\n",
    "\n",
    "inputs = torch.randn(3)\n",
    "my_gradients = torch.tensor([0.1, 1.0, 0.0001])\n",
    "torch.autograd.functional.vjp(do_some_doubling, inputs, v=my_gradients)"
   ]
  },
  {
   "cell_type": "markdown",
   "id": "fba702e7-a2fb-4909-822c-a87c930a9c29",
   "metadata": {},
   "source": [
    "`torch.autograd.functional.jvp()` 方法执行与 `vjp()` 相同的矩阵乘法，操作数相反。`vhp()` 和 `hvp()` 方法对vector-Hessian积进行同样的操作。\n",
    "\n",
    "欲了解更多信息，包括性能，请见[API文档](https://pytorch.org/docs/stable/autograd.html#functional-higher-level-api)。"
   ]
  },
  {
   "cell_type": "code",
   "execution_count": null,
   "id": "ea932412-7362-48e0-8cf4-69cd03967d99",
   "metadata": {},
   "outputs": [],
   "source": []
  }
 ],
 "metadata": {
  "kernelspec": {
   "display_name": "jpth",
   "language": "python",
   "name": "jpth"
  },
  "language_info": {
   "codemirror_mode": {
    "name": "ipython",
    "version": 3
   },
   "file_extension": ".py",
   "mimetype": "text/x-python",
   "name": "python",
   "nbconvert_exporter": "python",
   "pygments_lexer": "ipython3",
   "version": "3.7.12"
  }
 },
 "nbformat": 4,
 "nbformat_minor": 5
}
